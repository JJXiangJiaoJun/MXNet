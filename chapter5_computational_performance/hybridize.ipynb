{
 "cells": [
  {
   "cell_type": "markdown",
   "metadata": {},
   "source": [
    "# 使用混合式编程"
   ]
  },
  {
   "cell_type": "markdown",
   "metadata": {},
   "source": [
    " * 我们之前学习了如何使用Sequential类来串联多个层。为了使用混合式编程，下面我们将Sequential类替换成HybridSequential类"
   ]
  },
  {
   "cell_type": "code",
   "execution_count": 1,
   "metadata": {},
   "outputs": [],
   "source": [
    "import sys\n",
    "sys.path.append('../')"
   ]
  },
  {
   "cell_type": "code",
   "execution_count": 2,
   "metadata": {},
   "outputs": [
    {
     "name": "stderr",
     "output_type": "stream",
     "text": [
      "C:\\Users\\lenovo\\Anaconda3\\lib\\site-packages\\h5py\\__init__.py:36: FutureWarning: Conversion of the second argument of issubdtype from `float` to `np.floating` is deprecated. In future, it will be treated as `np.float64 == np.dtype(float).type`.\n",
      "  from ._conv import register_converters as _register_converters\n"
     ]
    }
   ],
   "source": [
    "import mxnet as mx"
   ]
  },
  {
   "cell_type": "code",
   "execution_count": 3,
   "metadata": {},
   "outputs": [],
   "source": [
    "from mxnet import nd,sym\n",
    "from mxnet.gluon import nn\n",
    "import time"
   ]
  },
  {
   "cell_type": "code",
   "execution_count": 4,
   "metadata": {},
   "outputs": [],
   "source": [
    "def get_net():\n",
    "    net = nn.HybridSequential()  # 这里使用 HybridSequential 类。\n",
    "    net.add(nn.Dense(256, activation='relu'),\n",
    "            nn.Dense(128, activation='relu'),\n",
    "            nn.Dense(2))\n",
    "    net.initialize(ctx= mx.gpu())\n",
    "    return net"
   ]
  },
  {
   "cell_type": "code",
   "execution_count": 5,
   "metadata": {
    "scrolled": true
   },
   "outputs": [
    {
     "name": "stdout",
     "output_type": "stream",
     "text": [
      "\n",
      "[[0.05828758 0.0332496 ]]\n",
      "<NDArray 1x2 @gpu(0)>\n"
     ]
    }
   ],
   "source": [
    "x = nd.random.uniform(shape = (1,512),ctx= mx.gpu())\n",
    "net = get_net()\n",
    "print(net(x))\n"
   ]
  },
  {
   "cell_type": "code",
   "execution_count": 6,
   "metadata": {},
   "outputs": [
    {
     "data": {
      "text/plain": [
       "\n",
       "[[0.05828758 0.0332496 ]]\n",
       "<NDArray 1x2 @gpu(0)>"
      ]
     },
     "execution_count": 6,
     "metadata": {},
     "output_type": "execute_result"
    }
   ],
   "source": [
    "net.hybridize()\n",
    "net(x)"
   ]
  },
  {
   "cell_type": "markdown",
   "metadata": {},
   "source": [
    "只有继承 HybridBlock 类的层才会被优化计算。例如， HybridSequential 类和Gluon 提供的 Dense 类都是 HybridBlock 类的⼦类，它们都会被优化计算。如果⼀个层只是继承⾃ Block 类而不是 HybridBlock 类，那么它将不会被优化。"
   ]
  },
  {
   "cell_type": "code",
   "execution_count": 9,
   "metadata": {},
   "outputs": [],
   "source": [
    "def benchmark(net, x):\n",
    "    start = time.time()\n",
    "    for i in range(10000):\n",
    "        _ = net(x)\n",
    "    nd.waitall() # 等待所有计算完成⽅便计时。\n",
    "    return time.time() - start"
   ]
  },
  {
   "cell_type": "code",
   "execution_count": 10,
   "metadata": {},
   "outputs": [
    {
     "name": "stdout",
     "output_type": "stream",
     "text": [
      "before hybridizing: 2.6369 sec\n",
      "after hybridizing: 2.0844 sec\n"
     ]
    }
   ],
   "source": [
    "net = get_net()\n",
    "print('before hybridizing: %.4f sec' % (benchmark(net, x)))\n",
    "net.hybridize()\n",
    "print('after hybridizing: %.4f sec' % (benchmark(net, x)))"
   ]
  },
  {
   "cell_type": "code",
   "execution_count": 11,
   "metadata": {},
   "outputs": [],
   "source": [
    "net.export('my_mlp')"
   ]
  },
  {
   "cell_type": "code",
   "execution_count": 12,
   "metadata": {},
   "outputs": [
    {
     "data": {
      "text/plain": [
       "<Symbol dense8_fwd>"
      ]
     },
     "execution_count": 12,
     "metadata": {},
     "output_type": "execute_result"
    }
   ],
   "source": [
    "x = sym.var('data')\n",
    "net(x)"
   ]
  },
  {
   "cell_type": "markdown",
   "metadata": {},
   "source": [
    "## 使用HybridBlock类构造模型"
   ]
  },
  {
   "cell_type": "code",
   "execution_count": 28,
   "metadata": {},
   "outputs": [],
   "source": [
    "class HybridNet(nn.HybridBlock):\n",
    "    def __init__(self,**kwargs):\n",
    "        super(HybridNet,self).__init__(**kwargs)\n",
    "        self.hidden = nn.Dense(10)\n",
    "        self.output = nn.Dense(2)\n",
    "    \n",
    "    def hybrid_forward(self,F,x):\n",
    "        #x.asnumpy()\n",
    "        print('F: ', F)\n",
    "        print('x: ', x)\n",
    "        x = F.relu(self.hidden(x))\n",
    "        print('hidden: ', x)\n",
    "        return self.output(x)\n"
   ]
  },
  {
   "cell_type": "code",
   "execution_count": 29,
   "metadata": {},
   "outputs": [],
   "source": [
    "net = HybridNet()"
   ]
  },
  {
   "cell_type": "code",
   "execution_count": 30,
   "metadata": {},
   "outputs": [],
   "source": [
    "net.initialize(ctx= mx.gpu())"
   ]
  },
  {
   "cell_type": "code",
   "execution_count": 31,
   "metadata": {},
   "outputs": [
    {
     "name": "stdout",
     "output_type": "stream",
     "text": [
      "F:  <module 'mxnet.ndarray' from 'C:\\\\Users\\\\lenovo\\\\Anaconda3\\\\lib\\\\site-packages\\\\mxnet\\\\ndarray\\\\__init__.py'>\n",
      "x:  \n",
      "[[-0.9246624   0.9911375  -0.4820686  -0.61760885]]\n",
      "<NDArray 1x4 @gpu(0)>\n",
      "hidden:  \n",
      "[[0.02223664 0.02621048 0.         0.         0.         0.\n",
      "  0.09675613 0.         0.         0.00331112]]\n",
      "<NDArray 1x10 @gpu(0)>\n"
     ]
    },
    {
     "data": {
      "text/plain": [
       "\n",
       "[[ 0.00382923 -0.00562732]]\n",
       "<NDArray 1x2 @gpu(0)>"
      ]
     },
     "execution_count": 31,
     "metadata": {},
     "output_type": "execute_result"
    }
   ],
   "source": [
    "x = nd.random.normal(shape=(1, 4),ctx=mx.gpu())\n",
    "net(x)"
   ]
  },
  {
   "cell_type": "code",
   "execution_count": 32,
   "metadata": {},
   "outputs": [],
   "source": [
    "net.hybridize()"
   ]
  },
  {
   "cell_type": "code",
   "execution_count": 33,
   "metadata": {},
   "outputs": [
    {
     "name": "stdout",
     "output_type": "stream",
     "text": [
      "F:  <module 'mxnet.symbol' from 'C:\\\\Users\\\\lenovo\\\\Anaconda3\\\\lib\\\\site-packages\\\\mxnet\\\\symbol\\\\__init__.py'>\n",
      "x:  <Symbol data>\n",
      "hidden:  <Symbol hybridnet2_relu0>\n"
     ]
    },
    {
     "data": {
      "text/plain": [
       "\n",
       "[[ 0.00382923 -0.00562732]]\n",
       "<NDArray 1x2 @gpu(0)>"
      ]
     },
     "execution_count": 33,
     "metadata": {},
     "output_type": "execute_result"
    }
   ],
   "source": [
    "net(x)"
   ]
  },
  {
   "cell_type": "code",
   "execution_count": 34,
   "metadata": {},
   "outputs": [
    {
     "data": {
      "text/plain": [
       "\n",
       "[[ 0.00382923 -0.00562732]]\n",
       "<NDArray 1x2 @gpu(0)>"
      ]
     },
     "execution_count": 34,
     "metadata": {},
     "output_type": "execute_result"
    }
   ],
   "source": [
    "net(x)"
   ]
  },
  {
   "cell_type": "code",
   "execution_count": null,
   "metadata": {},
   "outputs": [],
   "source": []
  }
 ],
 "metadata": {
  "kernelspec": {
   "display_name": "Python3",
   "language": "python",
   "name": "python3"
  },
  "language_info": {
   "codemirror_mode": {
    "name": "ipython",
    "version": 3
   },
   "file_extension": ".py",
   "mimetype": "text/x-python",
   "name": "python",
   "nbconvert_exporter": "python",
   "pygments_lexer": "ipython3",
   "version": "3.6.4"
  }
 },
 "nbformat": 4,
 "nbformat_minor": 2
}
