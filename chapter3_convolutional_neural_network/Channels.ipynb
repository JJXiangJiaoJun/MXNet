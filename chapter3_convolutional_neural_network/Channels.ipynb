{
 "cells": [
  {
   "cell_type": "markdown",
   "metadata": {},
   "source": [
    "# 实现卷积核的多通道输入和输出"
   ]
  },
  {
   "cell_type": "code",
   "execution_count": 2,
   "metadata": {},
   "outputs": [],
   "source": [
    "import mxnet as mx\n",
    "from mxnet import autograd,nd\n",
    "from mxnet import gluon\n",
    "from mxnet.gluon import nn"
   ]
  },
  {
   "cell_type": "code",
   "execution_count": 3,
   "metadata": {},
   "outputs": [],
   "source": [
    "import sys\n",
    "sys.path.append('..')"
   ]
  },
  {
   "cell_type": "markdown",
   "metadata": {},
   "source": [
    "## 多输入通道"
   ]
  },
  {
   "cell_type": "code",
   "execution_count": 4,
   "metadata": {},
   "outputs": [],
   "source": [
    "import gluonbook as gb"
   ]
  },
  {
   "cell_type": "code",
   "execution_count": 5,
   "metadata": {},
   "outputs": [],
   "source": [
    "def corr_2d_multi_in(X,K):\n",
    "    #对卷积核输出通道的每一维遍历计算，最后将结果相加\n",
    "    return nd.add_n(*[gb.corr2d(x,k) for x,k in zip(X,K)])"
   ]
  },
  {
   "cell_type": "code",
   "execution_count": 6,
   "metadata": {},
   "outputs": [],
   "source": [
    "X = nd.array([[[0, 1, 2], [3, 4, 5], [6, 7, 8]],\n",
    "[[1, 2, 3], [4, 5, 6], [7, 8, 9]]],ctx=mx.gpu())\n",
    "K = nd.array([[[0, 1], [2, 3]], [[1, 2], [3, 4]]],ctx=mx.gpu())"
   ]
  },
  {
   "cell_type": "code",
   "execution_count": 7,
   "metadata": {},
   "outputs": [
    {
     "data": {
      "text/plain": [
       "\n",
       "[[ 56.  72.]\n",
       " [104. 120.]]\n",
       "<NDArray 2x2 @cpu(0)>"
      ]
     },
     "execution_count": 7,
     "metadata": {},
     "output_type": "execute_result"
    }
   ],
   "source": [
    "corr_2d_multi_in(X,K)"
   ]
  },
  {
   "cell_type": "markdown",
   "metadata": {},
   "source": [
    "## 多输出通道\n",
    "## 通过计算每一个输出通道的值，最后将输出通道在输出维度进行合并得到"
   ]
  },
  {
   "cell_type": "code",
   "execution_count": 8,
   "metadata": {},
   "outputs": [],
   "source": [
    "def corr2d_multi_out(X,K):\n",
    "    return nd.stack(*[corr_2d_multi_in(X,k) for k in K])"
   ]
  },
  {
   "cell_type": "code",
   "execution_count": 10,
   "metadata": {},
   "outputs": [],
   "source": [
    "K = nd.stack(K,K+1,K+2)"
   ]
  },
  {
   "cell_type": "code",
   "execution_count": 11,
   "metadata": {},
   "outputs": [
    {
     "data": {
      "text/plain": [
       "\n",
       "[[[ 56.  72.]\n",
       "  [104. 120.]]\n",
       "\n",
       " [[ 76. 100.]\n",
       "  [148. 172.]]\n",
       "\n",
       " [[ 96. 128.]\n",
       "  [192. 224.]]]\n",
       "<NDArray 3x2x2 @cpu(0)>"
      ]
     },
     "execution_count": 11,
     "metadata": {},
     "output_type": "execute_result"
    }
   ],
   "source": [
    "corr2d_multi_out(X,K)"
   ]
  },
  {
   "cell_type": "markdown",
   "metadata": {},
   "source": [
    "## 下面实现1 * 1 的卷积层"
   ]
  },
  {
   "cell_type": "code",
   "execution_count": 29,
   "metadata": {},
   "outputs": [],
   "source": [
    "def corr2d_mulit_in_out_1x1(X,K):\n",
    "    c_i,h,w = X.shape\n",
    "    c_o = K.shape[0]\n",
    "    X = X.reshape((c_i,h*w))\n",
    "    K = K.reshape((c_o,c_i))\n",
    "    Y = nd.dot(K,X)\n",
    "    return Y.reshape((c_o,h,w))"
   ]
  },
  {
   "cell_type": "code",
   "execution_count": 30,
   "metadata": {},
   "outputs": [],
   "source": [
    "X = nd.random.uniform(shape=(3, 3, 3),ctx=mx.gpu())\n",
    "K = nd.random.uniform(shape=(2, 3, 1, 1),ctx = mx.gpu())"
   ]
  },
  {
   "cell_type": "code",
   "execution_count": 31,
   "metadata": {},
   "outputs": [],
   "source": [
    "with mx.Context(mx.gpu()):\n",
    "    Y1 = corr2d_mulit_in_out_1x1(X, K)\n",
    "    Y2 = corr2d_multi_out(X, K)\n",
    "    (Y1 - Y2).norm().asscalar() < 1e-6"
   ]
  },
  {
   "cell_type": "code",
   "execution_count": 32,
   "metadata": {},
   "outputs": [
    {
     "data": {
      "text/plain": [
       "True"
      ]
     },
     "execution_count": 32,
     "metadata": {},
     "output_type": "execute_result"
    }
   ],
   "source": [
    "(Y1 - Y2).norm().asscalar() < 1e-6"
   ]
  },
  {
   "cell_type": "markdown",
   "metadata": {},
   "source": [
    "## 定义一个多输入多输出通道的卷积层"
   ]
  },
  {
   "cell_type": "code",
   "execution_count": 50,
   "metadata": {},
   "outputs": [],
   "source": [
    "class Conv2D_mulit(nn.Block):\n",
    "    def __init__(self,kernel_size,ch_in,ch_out,**kargs):\n",
    "        super(Conv2D_mulit,self).__init__(**kargs)\n",
    "        self.weight = self.params.get('weights',shape=(ch_out,ch_in)+kernel_size)\n",
    "        self.bias  = self.params.get('bias',shape=(ch_out,ch_in,))\n",
    "        \n",
    "    def forward(self,X):\n",
    "        #下面进行多通道计算\n",
    "        Y = corr2d_multi_out(X,self.weight.data())\n",
    "        return nd.relu(Y+self.bias.data(),ctx=mx.gpu())"
   ]
  },
  {
   "cell_type": "code",
   "execution_count": 51,
   "metadata": {},
   "outputs": [],
   "source": [
    "conv2d_multi = Conv2D_mulit(kernel_size=(3,3),ch_in=3,ch_out=2)"
   ]
  },
  {
   "cell_type": "code",
   "execution_count": 52,
   "metadata": {},
   "outputs": [
    {
     "data": {
      "text/plain": [
       "conv2d_mulit3_ (\n",
       "  Parameter conv2d_mulit3_weights (shape=(2, 3, 3, 3), dtype=<class 'numpy.float32'>)\n",
       "  Parameter conv2d_mulit3_bias (shape=(2, 3), dtype=<class 'numpy.float32'>)\n",
       ")"
      ]
     },
     "execution_count": 52,
     "metadata": {},
     "output_type": "execute_result"
    }
   ],
   "source": [
    "conv2d_multi.params"
   ]
  },
  {
   "cell_type": "code",
   "execution_count": 53,
   "metadata": {},
   "outputs": [],
   "source": [
    "conv2d_multi.initialize(ctx=mx.gpu())"
   ]
  },
  {
   "cell_type": "code",
   "execution_count": 55,
   "metadata": {},
   "outputs": [
    {
     "name": "stdout",
     "output_type": "stream",
     "text": [
      "\n",
      "[[[0.         0.07260251 0.06445698]\n",
      "  [0.         0.01962225 0.0287397 ]]\n",
      "\n",
      " [[0.         0.00455641 0.        ]\n",
      "  [0.         0.         0.        ]]]\n",
      "<NDArray 2x2x3 @gpu(0)>\n"
     ]
    }
   ],
   "source": [
    "with mx.Context(mx.gpu()):\n",
    "    print(conv2d_multi(X))"
   ]
  },
  {
   "cell_type": "code",
   "execution_count": null,
   "metadata": {},
   "outputs": [],
   "source": []
  },
  {
   "cell_type": "code",
   "execution_count": null,
   "metadata": {},
   "outputs": [],
   "source": []
  }
 ],
 "metadata": {
  "kernelspec": {
   "display_name": "Python3",
   "language": "python",
   "name": "python3"
  },
  "language_info": {
   "codemirror_mode": {
    "name": "ipython",
    "version": 3
   },
   "file_extension": ".py",
   "mimetype": "text/x-python",
   "name": "python",
   "nbconvert_exporter": "python",
   "pygments_lexer": "ipython3",
   "version": "3.6.4"
  }
 },
 "nbformat": 4,
 "nbformat_minor": 2
}
