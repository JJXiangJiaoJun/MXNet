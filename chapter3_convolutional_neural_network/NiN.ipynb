{
 "cells": [
  {
   "cell_type": "markdown",
   "metadata": {},
   "source": [
    "# NiN块"
   ]
  },
  {
   "cell_type": "markdown",
   "metadata": {},
   "source": [
    "NiN块使用 1x1 卷积层来替代全连接层，从而使空间信息能够自然传递到后面的层中去。"
   ]
  },
  {
   "cell_type": "markdown",
   "metadata": {},
   "source": [
    "NiN块是NiN中的基础块。它由一个卷积层加两个充当全连接层的 1x1 卷积层串联而成。\n",
    "其中第一个卷积层的超参数可以自行设定，而第二个和第三个卷积层的超参数一般是固定的"
   ]
  },
  {
   "cell_type": "code",
   "execution_count": 1,
   "metadata": {},
   "outputs": [],
   "source": [
    "import sys\n",
    "sys.path.append('../')"
   ]
  },
  {
   "cell_type": "code",
   "execution_count": 7,
   "metadata": {},
   "outputs": [],
   "source": [
    "import mxnet as mx\n",
    "import gluonbook as gb\n",
    "from mxnet import gluon,init,nd\n",
    "from mxnet.gluon import nn,data as gdata"
   ]
  },
  {
   "cell_type": "code",
   "execution_count": 3,
   "metadata": {},
   "outputs": [],
   "source": [
    "def nin_block(num_channels,kernel_size,strides,padding):\n",
    "    blk = nn.Sequential()\n",
    "    blk.add(nn.Conv2D(num_channels,kernel_size,strides,padding,activation='relu'),\n",
    "            nn.Conv2D(num_channels,kernel_size=1,activation='relu'),\n",
    "            nn.Conv2D(num_channels,kernel_size=1,activation='relu')\n",
    "           )\n",
    "    return blk"
   ]
  },
  {
   "cell_type": "code",
   "execution_count": 4,
   "metadata": {},
   "outputs": [],
   "source": [
    "nin_net = nn.Sequential()\n",
    "nin_net.add(nin_block(96,kernel_size = 11,strides=4,padding=0),\n",
    "            nn.MaxPool2D(pool_size=3,strides=2),\n",
    "            nin_block(128,kernel_size =5,strides=1,padding=2),\n",
    "            nn.MaxPool2D(pool_size=3,strides=2),\n",
    "            nin_block(256,kernel_size =3,strides=1,padding=1),\n",
    "            nn.MaxPool2D(pool_size=3,strides=2),nn.Dropout(0.5),\n",
    "            \n",
    "            #标签类别数为10\n",
    "            nin_block(10,kernel_size=3,strides=1,padding=1),\n",
    "            #全局平均池化层将窗口形状自动设置成输入的高和宽。\n",
    "            nn.GlobalAvgPool2D(),\n",
    "            #将输出变成二维的输出，其形状为（批量大小，10）\n",
    "            nn.Flatten()\n",
    "            )"
   ]
  },
  {
   "cell_type": "code",
   "execution_count": 5,
   "metadata": {},
   "outputs": [
    {
     "name": "stdout",
     "output_type": "stream",
     "text": [
      "sequential1 output shape:\t (1, 96, 54, 54)\n",
      "pool0 output shape:\t (1, 96, 26, 26)\n",
      "sequential2 output shape:\t (1, 128, 26, 26)\n",
      "pool1 output shape:\t (1, 128, 12, 12)\n",
      "sequential3 output shape:\t (1, 256, 12, 12)\n",
      "pool2 output shape:\t (1, 256, 5, 5)\n",
      "dropout0 output shape:\t (1, 256, 5, 5)\n",
      "sequential4 output shape:\t (1, 10, 5, 5)\n",
      "pool3 output shape:\t (1, 10, 1, 1)\n",
      "flatten0 output shape:\t (1, 10)\n"
     ]
    }
   ],
   "source": [
    "X = nd.random.uniform(shape=(1,1,224,224),ctx=mx.gpu())\n",
    "nin_net.initialize(ctx = mx.gpu())\n",
    "for layer in nin_net:\n",
    "    X = layer(X)\n",
    "    print(layer.name, 'output shape:\\t', X.shape)"
   ]
  },
  {
   "cell_type": "markdown",
   "metadata": {},
   "source": [
    "## 获取数据并进行训练"
   ]
  },
  {
   "cell_type": "code",
   "execution_count": 8,
   "metadata": {},
   "outputs": [],
   "source": [
    "def load_data_fashion_mnist(batch_size,resize=None):\n",
    "    transformer = []\n",
    "    path = '../chapter1_baseKnowledge/FashionMNIST/'\n",
    "    if resize:\n",
    "        transformer += [gdata.vision.transforms.Resize(resize)]\n",
    "    transformer += [gdata.vision.transforms.ToTensor()]\n",
    "    transformer = gdata.vision.transforms.Compose(transformer)\n",
    "    mnist_train =gdata.vision.FashionMNIST(root=path,train=True)\n",
    "    mnist_test =gdata.vision.FashionMNIST(root= path,train=False)\n",
    "    \n",
    "    train_iter = gdata.DataLoader(mnist_train.transform_first(transformer),batch_size,shuffle = True)\n",
    "    test_iter = gdata.DataLoader(mnist_test.transform_first(transformer),batch_size,shuffle=False)\n",
    "    \n",
    "    return train_iter,test_iter\n",
    "\n",
    "batch_size,lr,num_epochs ,ctx= 256,0.1,5,gb.try_gpu()\n",
    "train_iter,test_iter = load_data_fashion_mnist(batch_size,resize=96)\n",
    "trainer = gluon.Trainer(nin_net.collect_params(),'sgd',{'learning_rate':lr})\n",
    "nin_net.initialize(force_reinit = True,init = init.Xavier(),ctx=ctx)"
   ]
  },
  {
   "cell_type": "code",
   "execution_count": null,
   "metadata": {},
   "outputs": [
    {
     "name": "stdout",
     "output_type": "stream",
     "text": [
      "training on gpu(0)\n",
      "epoch 1, loss 2.2898, train acc 0.141, test acc 0.195, time 29.2 sec\n",
      "epoch 2, loss 1.6022, train acc 0.355, test acc 0.590, time 27.0 sec\n"
     ]
    }
   ],
   "source": [
    "gb.train_ch5(nin_net,train_iter,test_iter,batch_size,trainer,ctx,num_epochs)"
   ]
  },
  {
   "cell_type": "code",
   "execution_count": null,
   "metadata": {},
   "outputs": [],
   "source": []
  }
 ],
 "metadata": {
  "kernelspec": {
   "display_name": "Python3",
   "language": "python",
   "name": "python3"
  },
  "language_info": {
   "codemirror_mode": {
    "name": "ipython",
    "version": 3
   },
   "file_extension": ".py",
   "mimetype": "text/x-python",
   "name": "python",
   "nbconvert_exporter": "python",
   "pygments_lexer": "ipython3",
   "version": "3.6.4"
  }
 },
 "nbformat": 4,
 "nbformat_minor": 2
}
