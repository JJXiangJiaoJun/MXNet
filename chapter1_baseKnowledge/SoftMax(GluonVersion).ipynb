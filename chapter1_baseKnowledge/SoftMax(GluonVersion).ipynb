{
 "cells": [
  {
   "cell_type": "markdown",
   "metadata": {},
   "source": [
    "# softmax Gluon接口版本实现"
   ]
  },
  {
   "cell_type": "code",
   "execution_count": 2,
   "metadata": {},
   "outputs": [],
   "source": [
    "import mxnet as mx\n",
    "import seaborn as sns\n",
    "import matplotlib as mpl\n",
    "import matplotlib.pyplot as plt\n",
    "import numpy as np\n",
    "import pandas as pd\n",
    "from  mxnet import gluon\n",
    "from  mxnet.gluon import data as gdata\n",
    "from mxnet import autograd\n",
    "from mxnet.gluon import loss as gloss,nn"
   ]
  },
  {
   "cell_type": "markdown",
   "metadata": {},
   "source": [
    "## 同理首先准备训练的数据集"
   ]
  },
  {
   "cell_type": "code",
   "execution_count": 5,
   "metadata": {},
   "outputs": [],
   "source": [
    "context = mx.gpu()\n",
    "\n",
    "def preproc(X,y):\n",
    "    return X.astype(np.float32).reshape((-1,28,28))/255 , y  "
   ]
  },
  {
   "cell_type": "code",
   "execution_count": 6,
   "metadata": {},
   "outputs": [],
   "source": [
    "with context:\n",
    "    trainData = gdata.vision.FashionMNIST(root='./FashionMNIST',train=True,transform=preproc)\n",
    "    testData  = gdata.vision.FashionMNIST(root='./FashionMNIST',train=False,transform=preproc)"
   ]
  },
  {
   "cell_type": "code",
   "execution_count": 7,
   "metadata": {
    "scrolled": true
   },
   "outputs": [
    {
     "data": {
      "text/plain": [
       "(\n",
       " [[[0.         0.         0.         0.         0.         0.\n",
       "    0.         0.         0.         0.         0.         0.\n",
       "    0.         0.         0.         0.         0.         0.\n",
       "    0.         0.         0.         0.         0.         0.\n",
       "    0.         0.         0.         0.        ]\n",
       "   [0.         0.         0.         0.         0.         0.\n",
       "    0.         0.         0.         0.         0.         0.\n",
       "    0.         0.         0.         0.         0.         0.\n",
       "    0.         0.         0.         0.         0.         0.\n",
       "    0.         0.         0.         0.        ]\n",
       "   [0.         0.         0.         0.         0.         0.\n",
       "    0.         0.         0.         0.         0.         0.\n",
       "    0.         0.         0.         0.         0.         0.\n",
       "    0.         0.         0.         0.         0.         0.\n",
       "    0.         0.         0.         0.        ]\n",
       "   [0.         0.         0.         0.         0.01568628 0.\n",
       "    0.         0.         0.         0.         0.24313726 0.23921569\n",
       "    0.08235294 0.11372549 0.09019608 0.2        0.53333336 0.23921569\n",
       "    0.         0.         0.         0.         0.         0.\n",
       "    0.         0.         0.         0.        ]\n",
       "   [0.         0.         0.         0.         0.         0.\n",
       "    0.         0.34509805 0.7882353  0.89411765 0.88235295 1.\n",
       "    0.4509804  0.24313726 0.5372549  1.         0.92156863 0.87058824\n",
       "    1.         0.5294118  0.         0.         0.         0.\n",
       "    0.         0.         0.         0.        ]\n",
       "   [0.         0.         0.         0.         0.         0.18431373\n",
       "    0.9882353  0.91764706 0.93333334 0.8784314  0.84313726 0.84313726\n",
       "    0.8980392  0.42352942 0.7058824  0.8117647  0.8392157  0.8784314\n",
       "    0.90588236 0.9764706  0.99607843 0.1764706  0.         0.\n",
       "    0.         0.         0.         0.        ]\n",
       "   [0.         0.         0.00392157 0.         0.         0.8392157\n",
       "    0.87058824 0.8235294  0.8352941  0.8784314  0.88235295 0.8509804\n",
       "    0.8627451  0.99607843 0.9137255  0.85882354 0.8666667  0.8509804\n",
       "    0.8745098  0.8666667  0.9411765  0.99607843 0.         0.\n",
       "    0.00392157 0.         0.         0.        ]\n",
       "   [0.00392157 0.         0.         0.         0.5019608  0.92941177\n",
       "    0.8117647  0.8784314  0.8784314  0.8117647  0.84705883 0.8392157\n",
       "    0.8235294  0.8156863  0.827451   0.8666667  0.8156863  0.85882354\n",
       "    0.8352941  0.8862745  0.827451   0.92941177 0.5882353  0.\n",
       "    0.         0.         0.         0.        ]\n",
       "   [0.         0.00784314 0.         0.         0.92941177 0.87058824\n",
       "    0.84313726 0.8117647  0.8235294  0.83137256 0.8352941  0.80784315\n",
       "    0.8392157  0.8352941  0.8392157  0.8352941  0.8235294  0.84313726\n",
       "    0.8392157  0.80784315 0.78039217 0.85490197 1.         0.05098039\n",
       "    0.         0.00784314 0.         0.        ]\n",
       "   [0.         0.01568628 0.         0.33333334 0.89411765 0.8235294\n",
       "    0.85490197 0.78431374 0.827451   0.8156863  0.79607844 0.84313726\n",
       "    0.8235294  0.81960785 0.81960785 0.8235294  0.8352941  0.827451\n",
       "    0.8235294  0.8509804  0.80784315 0.8352941  0.90588236 0.6862745\n",
       "    0.         0.         0.         0.        ]\n",
       "   [0.         0.         0.         0.8509804  0.8784314  0.84313726\n",
       "    0.80784315 0.8039216  0.8        0.8509804  0.9019608  0.87058824\n",
       "    0.84313726 0.8784314  0.9137255  0.89411765 0.9098039  0.89411765\n",
       "    0.8784314  0.8117647  0.83137256 0.84313726 0.8352941  0.8980392\n",
       "    0.12156863 0.         0.01568628 0.        ]\n",
       "   [0.00392157 0.         0.08235294 0.88235295 0.83137256 0.83137256\n",
       "    0.79607844 0.827451   0.88235295 0.75686276 0.54509807 0.53333336\n",
       "    0.7647059  0.5764706  0.6117647  0.54509807 0.5019608  0.63529414\n",
       "    0.77254903 0.8745098  0.8117647  0.8627451  0.8352941  0.9098039\n",
       "    0.69411767 0.         0.         0.        ]\n",
       "   [0.         0.         0.48235294 0.8862745  0.8117647  0.827451\n",
       "    0.81960785 0.8039216  0.89411765 0.61960787 0.3529412  0.40392157\n",
       "    0.7294118  0.5411765  0.39215687 0.4745098  0.5764706  0.61960787\n",
       "    0.7176471  0.8862745  0.8156863  0.8392157  0.81960785 0.84705883\n",
       "    1.         0.05098039 0.         0.00392157]\n",
       "   [0.         0.         0.8862745  0.85882354 0.7921569  0.8156863\n",
       "    0.80784315 0.8039216  0.84705883 0.72156864 0.6117647  0.5882353\n",
       "    0.75686276 0.6666667  0.6431373  0.65882355 0.7372549  0.7294118\n",
       "    0.78431374 0.85882354 0.84705883 0.8352941  0.8352941  0.827451\n",
       "    0.9137255  0.5803922  0.         0.        ]\n",
       "   [0.         0.1764706  0.8901961  0.8        0.8392157  0.827451\n",
       "    0.85490197 0.87058824 0.8666667  0.9019608  0.8980392  0.8666667\n",
       "    0.8352941  0.8784314  0.9137255  0.8862745  0.8627451  0.85882354\n",
       "    0.8666667  0.8784314  0.8745098  0.8509804  0.8235294  0.85490197\n",
       "    0.8352941  0.99607843 0.         0.        ]\n",
       "   [0.         0.6156863  0.8862745  0.79607844 0.8117647  0.827451\n",
       "    0.81960785 0.84313726 0.8039216  0.7764706  0.8117647  0.8156863\n",
       "    0.7882353  0.7882353  0.77254903 0.79607844 0.8039216  0.8235294\n",
       "    0.8117647  0.8352941  0.8392157  0.8392157  0.8392157  0.8352941\n",
       "    0.8156863  0.91764706 0.41960785 0.        ]\n",
       "   [0.         0.92156863 0.8352941  0.8        0.827451   0.8235294\n",
       "    0.81960785 0.8352941  0.7921569  0.77254903 0.8        0.84313726\n",
       "    0.8509804  0.8352941  0.83137256 0.8235294  0.80784315 0.83137256\n",
       "    0.79607844 0.827451   0.85490197 0.84313726 0.8392157  0.8156863\n",
       "    0.81960785 0.87058824 0.9019608  0.        ]\n",
       "   [0.20392157 1.         0.8117647  0.78431374 0.8156863  0.8352941\n",
       "    0.8235294  0.8235294  0.8156863  0.8117647  0.7921569  0.7882353\n",
       "    0.81960785 0.84705883 0.84705883 0.84705883 0.84705883 0.8392157\n",
       "    0.83137256 0.8039216  0.84313726 0.7882353  0.89411765 0.8156863\n",
       "    0.8392157  0.83137256 0.85490197 0.09803922]\n",
       "   [0.4627451  0.8509804  0.7882353  0.80784315 0.8156863  0.8352941\n",
       "    0.8156863  0.8039216  0.80784315 0.8235294  0.827451   0.7921569\n",
       "    0.78039217 0.8117647  0.8156863  0.81960785 0.8235294  0.8117647\n",
       "    0.8235294  0.8235294  0.9607843  0.54509807 0.46666667 1.\n",
       "    0.7921569  0.79607844 0.9254902  0.44705883]\n",
       "   [0.67058825 0.93333334 0.83137256 0.79607844 0.8627451  0.84705883\n",
       "    0.8509804  0.81960785 0.8117647  0.8039216  0.8235294  0.827451\n",
       "    0.80784315 0.8        0.80784315 0.81960785 0.827451   0.84313726\n",
       "    0.8235294  0.80784315 0.8666667  0.9490196  0.         0.8784314\n",
       "    0.91764706 0.9019608  0.70980394 0.10196079]\n",
       "   [0.15294118 0.5686275  0.7882353  1.         0.6156863  0.4509804\n",
       "    0.98039216 0.78431374 0.8117647  0.80784315 0.8117647  0.8352941\n",
       "    0.84705883 0.80784315 0.8039216  0.80784315 0.8117647  0.80784315\n",
       "    0.84313726 0.8117647  0.8666667  0.93333334 0.         0.\n",
       "    0.7372549  0.33333334 0.         0.        ]\n",
       "   [0.         0.         0.         0.12156863 0.         0.5058824\n",
       "    0.99215686 0.74509805 0.8117647  0.8156863  0.8156863  0.8156863\n",
       "    0.81960785 0.827451   0.827451   0.81960785 0.81960785 0.81960785\n",
       "    0.83137256 0.7882353  0.8862745  0.64705884 0.         0.\n",
       "    0.         0.         0.         0.        ]\n",
       "   [0.00784314 0.         0.         0.         0.         0.34901962\n",
       "    0.99607843 0.78039217 0.78039217 0.7529412  0.76862746 0.7764706\n",
       "    0.78039217 0.7882353  0.7921569  0.79607844 0.8        0.79607844\n",
       "    0.79607844 0.78431374 0.87058824 0.60784316 0.         0.01176471\n",
       "    0.01176471 0.01176471 0.00784314 0.        ]\n",
       "   [0.         0.         0.00392157 0.01960784 0.         0.\n",
       "    1.         0.85490197 0.8862745  0.9098039  0.89411765 0.8784314\n",
       "    0.87058824 0.8627451  0.85882354 0.85882354 0.8509804  0.8666667\n",
       "    0.8627451  0.83137256 0.9254902  0.37254903 0.         0.00784314\n",
       "    0.         0.         0.         0.        ]\n",
       "   [0.         0.         0.         0.         0.         0.\n",
       "    0.60784316 0.7607843  0.65882355 0.6666667  0.67058825 0.6784314\n",
       "    0.6784314  0.7019608  0.69411767 0.6862745  0.6745098  0.67058825\n",
       "    0.654902   0.6313726  0.7058824  0.         0.         0.00392157\n",
       "    0.         0.00392157 0.         0.        ]\n",
       "   [0.         0.         0.         0.         0.         0.\n",
       "    0.         0.         0.         0.         0.         0.\n",
       "    0.         0.         0.         0.         0.         0.\n",
       "    0.         0.         0.         0.         0.         0.\n",
       "    0.         0.         0.         0.        ]\n",
       "   [0.         0.         0.         0.         0.         0.\n",
       "    0.         0.         0.         0.         0.         0.\n",
       "    0.         0.         0.         0.         0.         0.\n",
       "    0.         0.         0.         0.         0.         0.\n",
       "    0.         0.         0.         0.        ]\n",
       "   [0.         0.         0.         0.         0.         0.\n",
       "    0.         0.         0.         0.         0.         0.\n",
       "    0.         0.         0.         0.         0.         0.\n",
       "    0.         0.         0.         0.         0.         0.\n",
       "    0.         0.         0.         0.        ]]]\n",
       " <NDArray 1x28x28 @gpu(0)>, 2)"
      ]
     },
     "execution_count": 7,
     "metadata": {},
     "output_type": "execute_result"
    }
   ],
   "source": [
    "trainData[0]"
   ]
  },
  {
   "cell_type": "code",
   "execution_count": 8,
   "metadata": {},
   "outputs": [],
   "source": [
    "batch_size = 256\n",
    "train_iter = gdata.DataLoader(trainData,batch_size,shuffle=True)\n",
    "test_iter  =gdata.DataLoader(testData,batch_size,shuffle=False)"
   ]
  },
  {
   "cell_type": "code",
   "execution_count": 9,
   "metadata": {},
   "outputs": [
    {
     "name": "stdout",
     "output_type": "stream",
     "text": [
      "\n",
      "[4 6 2 2 7 2 1 5 2 9 9 2 7 6 0 0 3 3 8 3 4 1 2 3 8 2 1 4 9 8 3 7 9 3 0 1 6\n",
      " 2 7 4 6 7 2 3 8 8 3 4 3 6 1 3 1 0 6 1 9 3 4 9 2 7 7 7 3 6 7 2 7 4 7 4 6 2\n",
      " 3 3 1 9 5 9 1 1 1 8 6 9 2 1 6 4 7 9 7 5 2 6 8 8 0 7 6 6 3 0 4 5 1 2 2 6 4\n",
      " 4 4 5 3 4 0 1 9 7 1 0 0 1 9 1 7 3 8 2 7 8 1 9 9 5 7 6 9 0 8 3 1 0 1 9 4 8\n",
      " 4 5 9 8 5 7 0 6 3 1 2 9 9 9 0 5 9 1 1 4 4 5 3 3 7 4 8 0 7 1 4 0 2 0 9 3 5\n",
      " 5 1 0 2 2 8 8 6 9 8 5 3 1 1 4 0 3 0 1 6 5 3 1 6 9 0 8 2 8 7 4 2 9 6 3 0 6\n",
      " 7 5 4 5 7 6 0 1 4 5 0 2 9 4 5 3 0 3 1 6 6 1 3 0 8 5 1 7 4 6 5 4 6 6]\n",
      "<NDArray 256 @cpu(0)>\n"
     ]
    }
   ],
   "source": [
    "for X,y in train_iter:\n",
    "    break\n",
    "print(y)"
   ]
  },
  {
   "cell_type": "markdown",
   "metadata": {},
   "source": [
    "## 编写获取标签的函数"
   ]
  },
  {
   "cell_type": "code",
   "execution_count": 10,
   "metadata": {},
   "outputs": [],
   "source": [
    "def get_fashion_mnist_labels(labels):\n",
    "    test_labels = ['t-shirt', 'trouser', 'pullover', 'dress', 'coat',\n",
    "                    'sandal', 'shirt', 'sneaker', 'bag', 'ankle boot']\n",
    "    return [test_labels[int(i)] for i in labels]"
   ]
  },
  {
   "cell_type": "code",
   "execution_count": 13,
   "metadata": {},
   "outputs": [
    {
     "name": "stdout",
     "output_type": "stream",
     "text": [
      "['coat', 'shirt', 'pullover', 'pullover', 'sneaker', 'pullover', 'trouser', 'sandal', 'pullover', 'ankle boot', 'ankle boot', 'pullover', 'sneaker', 'shirt', 't-shirt', 't-shirt', 'dress', 'dress', 'bag', 'dress', 'coat', 'trouser', 'pullover', 'dress', 'bag', 'pullover', 'trouser', 'coat', 'ankle boot', 'bag', 'dress', 'sneaker', 'ankle boot', 'dress', 't-shirt', 'trouser', 'shirt', 'pullover', 'sneaker', 'coat', 'shirt', 'sneaker', 'pullover', 'dress', 'bag', 'bag', 'dress', 'coat', 'dress', 'shirt', 'trouser', 'dress', 'trouser', 't-shirt', 'shirt', 'trouser', 'ankle boot', 'dress', 'coat', 'ankle boot', 'pullover', 'sneaker', 'sneaker', 'sneaker', 'dress', 'shirt', 'sneaker', 'pullover', 'sneaker', 'coat', 'sneaker', 'coat', 'shirt', 'pullover', 'dress', 'dress', 'trouser', 'ankle boot', 'sandal', 'ankle boot', 'trouser', 'trouser', 'trouser', 'bag', 'shirt', 'ankle boot', 'pullover', 'trouser', 'shirt', 'coat', 'sneaker', 'ankle boot', 'sneaker', 'sandal', 'pullover', 'shirt', 'bag', 'bag', 't-shirt', 'sneaker', 'shirt', 'shirt', 'dress', 't-shirt', 'coat', 'sandal', 'trouser', 'pullover', 'pullover', 'shirt', 'coat', 'coat', 'coat', 'sandal', 'dress', 'coat', 't-shirt', 'trouser', 'ankle boot', 'sneaker', 'trouser', 't-shirt', 't-shirt', 'trouser', 'ankle boot', 'trouser', 'sneaker', 'dress', 'bag', 'pullover', 'sneaker', 'bag', 'trouser', 'ankle boot', 'ankle boot', 'sandal', 'sneaker', 'shirt', 'ankle boot', 't-shirt', 'bag', 'dress', 'trouser', 't-shirt', 'trouser', 'ankle boot', 'coat', 'bag', 'coat', 'sandal', 'ankle boot', 'bag', 'sandal', 'sneaker', 't-shirt', 'shirt', 'dress', 'trouser', 'pullover', 'ankle boot', 'ankle boot', 'ankle boot', 't-shirt', 'sandal', 'ankle boot', 'trouser', 'trouser', 'coat', 'coat', 'sandal', 'dress', 'dress', 'sneaker', 'coat', 'bag', 't-shirt', 'sneaker', 'trouser', 'coat', 't-shirt', 'pullover', 't-shirt', 'ankle boot', 'dress', 'sandal', 'sandal', 'trouser', 't-shirt', 'pullover', 'pullover', 'bag', 'bag', 'shirt', 'ankle boot', 'bag', 'sandal', 'dress', 'trouser', 'trouser', 'coat', 't-shirt', 'dress', 't-shirt', 'trouser', 'shirt', 'sandal', 'dress', 'trouser', 'shirt', 'ankle boot', 't-shirt', 'bag', 'pullover', 'bag', 'sneaker', 'coat', 'pullover', 'ankle boot', 'shirt', 'dress', 't-shirt', 'shirt', 'sneaker', 'sandal', 'coat', 'sandal', 'sneaker', 'shirt', 't-shirt', 'trouser', 'coat', 'sandal', 't-shirt', 'pullover', 'ankle boot', 'coat', 'sandal', 'dress', 't-shirt', 'dress', 'trouser', 'shirt', 'shirt', 'trouser', 'dress', 't-shirt', 'bag', 'sandal', 'trouser', 'sneaker', 'coat', 'shirt', 'sandal', 'coat', 'shirt', 'shirt']\n"
     ]
    }
   ],
   "source": [
    "print(get_fashion_mnist_labels(y.asnumpy()))"
   ]
  },
  {
   "cell_type": "markdown",
   "metadata": {},
   "source": [
    "## 显示图片"
   ]
  },
  {
   "cell_type": "code",
   "execution_count": 16,
   "metadata": {},
   "outputs": [],
   "source": [
    "def show_fashion_mnist(images,labels):\n",
    "    _,figs = plt.subplots(nrows=1,ncols=len(images),figsize=(12,12))\n",
    "    for f,img,lab in zip(figs,images,labels):\n",
    "        f.imshow(img.reshape(28,28).asnumpy())\n",
    "        f.set_title(lab)\n",
    "        f.axes.get_xaxis().set_visible(False)\n",
    "        f.axes.get_yaxis().set_visible(False)"
   ]
  },
  {
   "cell_type": "code",
   "execution_count": 19,
   "metadata": {},
   "outputs": [
    {
     "data": {
      "image/png": "[encoded data removed]",
      "text/plain": [
       "<matplotlib.figure.Figure at 0x24b8d927e10>"
      ]
     },
     "metadata": {},
     "output_type": "display_data"
    }
   ],
   "source": [
    "show_fashion_mnist(X[0:9],get_fashion_mnist_labels(y[0:9].asnumpy()))"
   ]
  },
  {
   "cell_type": "markdown",
   "metadata": {},
   "source": [
    "## 定义和初始化模型"
   ]
  },
  {
   "cell_type": "code",
   "execution_count": 20,
   "metadata": {},
   "outputs": [],
   "source": [
    "net = nn.Sequential()   #首先定义一个容器"
   ]
  },
  {
   "cell_type": "code",
   "execution_count": 21,
   "metadata": {},
   "outputs": [],
   "source": [
    "net.add(nn.Dense(10))    #加入一个输出层"
   ]
  },
  {
   "cell_type": "code",
   "execution_count": 22,
   "metadata": {},
   "outputs": [],
   "source": [
    "from mxnet import init\n",
    "with context:\n",
    "    net.initialize(init.Normal(sigma=0.01),) #初始化参数的权重"
   ]
  },
  {
   "cell_type": "markdown",
   "metadata": {},
   "source": [
    "##  定义损失函数"
   ]
  },
  {
   "cell_type": "code",
   "execution_count": 23,
   "metadata": {},
   "outputs": [],
   "source": [
    "loss = gloss.SoftmaxCrossEntropyLoss()"
   ]
  },
  {
   "cell_type": "markdown",
   "metadata": {},
   "source": [
    "## 定义优化算法"
   ]
  },
  {
   "cell_type": "code",
   "execution_count": 24,
   "metadata": {},
   "outputs": [],
   "source": [
    "trainer = gluon.Trainer(net.collect_params(),'sgd',{'learning_rate':0.1})"
   ]
  },
  {
   "cell_type": "code",
   "execution_count": 26,
   "metadata": {},
   "outputs": [],
   "source": [
    "def accuracy(y_hat,y):\n",
    "     return (y_hat.argmax(axis=1) == y.astype('float32')).mean().asscalar()\n",
    "\n",
    "def evaluate_accuracy(data_iter,net):\n",
    "    acc = 0\n",
    "    for X,y in data_iter:\n",
    "        acc += accuracy(net(X),y)\n",
    "    return acc / len(data_iter)"
   ]
  },
  {
   "cell_type": "markdown",
   "metadata": {},
   "source": [
    "## 训练模型"
   ]
  },
  {
   "cell_type": "code",
   "execution_count": 30,
   "metadata": {},
   "outputs": [],
   "source": [
    "num_epochs = 5\n",
    "\n",
    "\n",
    "def train_softmax(net,train_iter,test_iter,loss,num_epochs,\n",
    "                  batch_size,params=None ,lr=None,trainer=None):\n",
    "    for epoch in range(0,num_epochs):\n",
    "        #取出minibatch数据\n",
    "        train_l = 0\n",
    "        train_acc = 0\n",
    "        for X,y in train_iter:\n",
    "            with autograd.record():\n",
    "                y_hat = net(X)      #前向运算\n",
    "                l = loss(y_hat,y)   #计算损失\n",
    "            l.backward()            #bp算法反向传播\n",
    "            \n",
    "            #下面进行训练\n",
    "            trainer.step(batch_size)\n",
    "            \n",
    "            #计算损失和准确率\n",
    "            train_l += l.mean().asscalar()\n",
    "            train_acc += accuracy(y_hat,y)\n",
    "        \n",
    "        test_acc = evaluate_accuracy(test_iter,net)\n",
    "        \n",
    "        print('epoch %d ,loss %.4f , train acc %.3f , test acc %.3f'\n",
    "              %(epoch+1,train_l/len(train_iter),train_acc/len(train_iter),test_acc))"
   ]
  },
  {
   "cell_type": "code",
   "execution_count": 31,
   "metadata": {},
   "outputs": [
    {
     "name": "stdout",
     "output_type": "stream",
     "text": [
      "epoch 1 ,loss 0.5741 , train acc 0.812 , test acc 0.824\n",
      "epoch 2 ,loss 0.5292 , train acc 0.824 , test acc 0.833\n",
      "epoch 3 ,loss 0.5049 , train acc 0.830 , test acc 0.833\n",
      "epoch 4 ,loss 0.4894 , train acc 0.836 , test acc 0.837\n",
      "epoch 5 ,loss 0.4783 , train acc 0.838 , test acc 0.845\n"
     ]
    }
   ],
   "source": [
    "with context:\n",
    "    train_softmax(net,train_iter,test_iter,loss,num_epochs,batch_size,None,None,trainer)"
   ]
  },
  {
   "cell_type": "code",
   "execution_count": 37,
   "metadata": {},
   "outputs": [
    {
     "data": {
      "image/png": "[encoded data removed]",
      "text/plain": [
       "<matplotlib.figure.Figure at 0x24b957b8940>"
      ]
     },
     "metadata": {},
     "output_type": "display_data"
    }
   ],
   "source": [
    "for X,y in test_iter:\n",
    "    break\n",
    "\n",
    "true_labels = get_fashion_mnist_labels(y[0:9].asnumpy())\n",
    "pred_labels = get_fashion_mnist_labels(np.argmax(net(X[0:9]).asnumpy(),axis=1))\n",
    "\n",
    "my_labels = [true_lab + '\\n'+ pred_lab for true_lab,pred_lab in zip(true_labels,pred_labels)]\n",
    "\n",
    "show_fashion_mnist(X[0:9],my_labels)"
   ]
  },
  {
   "cell_type": "code",
   "execution_count": null,
   "metadata": {},
   "outputs": [],
   "source": []
  }
 ],
 "metadata": {
  "kernelspec": {
   "display_name": "Python3",
   "language": "python",
   "name": "python3"
  },
  "language_info": {
   "codemirror_mode": {
    "name": "ipython",
    "version": 3
   },
   "file_extension": ".py",
   "mimetype": "text/x-python",
   "name": "python",
   "nbconvert_exporter": "python",
   "pygments_lexer": "ipython3",
   "version": "3.6.4"
  }
 },
 "nbformat": 4,
 "nbformat_minor": 2
}
