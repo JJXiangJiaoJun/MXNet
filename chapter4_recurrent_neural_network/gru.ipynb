{
 "cells": [
  {
   "cell_type": "markdown",
   "metadata": {},
   "source": [
    "# 门控循环单元"
   ]
  },
  {
   "cell_type": "markdown",
   "metadata": {},
   "source": [
    "- 在RNN中，当时间步数较大或者时间步数较小时，循环神经网络的梯度较容易出现衰减或者爆炸。虽然梯度裁剪可以应对梯度爆炸，但是无法解决梯度衰减的问题。通常由于这个原因，循环神经网络在实际中难以捕捉时间序列中时间步距离较大的依赖关系"
   ]
  },
  {
   "cell_type": "markdown",
   "metadata": {},
   "source": [
    "所以门控循环神经网络提出了：\n",
    "- 重置门\n",
    "- 更新门\n",
    "   "
   ]
  },
  {
   "cell_type": "markdown",
   "metadata": {},
   "source": [
    "## 从零开始实现"
   ]
  },
  {
   "cell_type": "code",
   "execution_count": 1,
   "metadata": {},
   "outputs": [],
   "source": [
    "import sys\n",
    "sys.path.append('../')"
   ]
  },
  {
   "cell_type": "code",
   "execution_count": 2,
   "metadata": {},
   "outputs": [
    {
     "name": "stderr",
     "output_type": "stream",
     "text": [
      "C:\\Users\\lenovo\\Anaconda3\\lib\\site-packages\\h5py\\__init__.py:36: FutureWarning: Conversion of the second argument of issubdtype from `float` to `np.floating` is deprecated. In future, it will be treated as `np.float64 == np.dtype(float).type`.\n",
      "  from ._conv import register_converters as _register_converters\n"
     ]
    }
   ],
   "source": [
    "import gluonbook as gb\n",
    "import mxnet as mx"
   ]
  },
  {
   "cell_type": "code",
   "execution_count": 4,
   "metadata": {},
   "outputs": [],
   "source": [
    "from mxnet import gluon,autograd,nd,init\n",
    "from mxnet.gluon import loss as gloss,data as gdata,nn\n",
    "from mxnet.gluon import rnn"
   ]
  },
  {
   "cell_type": "code",
   "execution_count": 5,
   "metadata": {},
   "outputs": [],
   "source": [
    "(corpus_indices,char_to_idx,idx_to_char,\n",
    "vocab_size) = gb.load_data_jay_lyrics()"
   ]
  },
  {
   "cell_type": "markdown",
   "metadata": {},
   "source": [
    "## 初始化模型参数"
   ]
  },
  {
   "cell_type": "code",
   "execution_count": 7,
   "metadata": {},
   "outputs": [],
   "source": [
    "num_inputs,num_hiddens,num_outputs = vocab_size,256,vocab_size\n",
    "ctx = gb.try_gpu()"
   ]
  },
  {
   "cell_type": "code",
   "execution_count": 8,
   "metadata": {},
   "outputs": [],
   "source": [
    "def get_params():\n",
    "    def _one(shape):\n",
    "        return nd.random.normal(scale=0.01,shape=shape,ctx=ctx)\n",
    "    def _three():\n",
    "        return (_one((num_inputs,num_hiddens)),\n",
    "                 _one((num_hiddens,num_hiddens)),\n",
    "                 nd.zeros(num_hiddens,ctx=ctx))\n",
    "    \n",
    "    W_xz,W_hz,b_z = _three()         #更新门参数\n",
    "    W_xr,W_hr,b_r = _three()         #重置门参数\n",
    "    W_xh,W_hh,b_h = _three()         #候选隐藏状态参数\n",
    "    \n",
    "    #输出层参数\n",
    "    W_hq = _one((num_hiddens,num_outputs))\n",
    "    b_q = nd.zeros(shape=(num_outputs,),ctx=ctx)\n",
    "    \n",
    "    #创建梯度\n",
    "    params = [W_xz, W_hz, b_z, W_xr, W_hr, b_r, W_xh, W_hh, b_h, W_hq, b_q]\n",
    "    for param in params:\n",
    "        param.attach_grad()\n",
    "    return params"
   ]
  },
  {
   "cell_type": "markdown",
   "metadata": {},
   "source": [
    "## 定义模型"
   ]
  },
  {
   "cell_type": "markdown",
   "metadata": {},
   "source": [
    "+ 定义隐藏状态的初始化函数，返回一个(批量大小，隐藏单元个数)的值为0的NDArray元组"
   ]
  },
  {
   "cell_type": "code",
   "execution_count": 9,
   "metadata": {},
   "outputs": [],
   "source": [
    "def init_gru_state(batch_size,num_hiddens,ctx):\n",
    "    return (nd.zeros(shape = (batch_size,num_hiddens),ctx=ctx),)"
   ]
  },
  {
   "cell_type": "markdown",
   "metadata": {},
   "source": [
    "+ 下面根据表达式搭建 gru 的模型"
   ]
  },
  {
   "cell_type": "code",
   "execution_count": 16,
   "metadata": {},
   "outputs": [],
   "source": [
    "def gru(inputs,state,params):\n",
    "    #获取参数\n",
    "    W_xz, W_hz, b_z, W_xr, W_hr, b_r, W_xh, W_hh, b_h, W_hq, b_q = params\n",
    "    #获取状态\n",
    "    H, = state\n",
    "    #输入有num_stpes\n",
    "    outputs = []\n",
    "    for X in inputs:\n",
    "        #首先计算重置门以及更新门\n",
    "        #重置门\n",
    "        R_t = nd.sigmoid(nd.dot(X,W_xr)+nd.dot(H,W_hr)+b_r)\n",
    "        #更新门\n",
    "        Z_t = nd.sigmoid(nd.dot(X,W_xz)+nd.dot(H,W_hz)+b_z)\n",
    "\n",
    "        #计算候选隐藏层的状态\n",
    "        H_t = nd.tanh(nd.dot(X,W_xh)+nd.dot(R_t*H,W_hh)+b_h)\n",
    "\n",
    "        #更新隐藏状态\n",
    "        H = Z_t*H+(1-Z_t)*H_t\n",
    "\n",
    "        #计算输出\n",
    "        Y = nd.dot(H,W_hq)+b_q\n",
    "        outputs.append(Y)\n",
    "    return outputs,(H,)"
   ]
  },
  {
   "cell_type": "markdown",
   "metadata": {},
   "source": [
    "## 训练模型并且创作歌词"
   ]
  },
  {
   "cell_type": "code",
   "execution_count": 30,
   "metadata": {},
   "outputs": [],
   "source": [
    "num_epochs, num_steps, batch_size, lr, clipping_theta = 500, 100, 32, 1e2, 1e-2\n",
    "pred_period, pred_len, prefixes = 40, 50, ['我', '牵']"
   ]
  },
  {
   "cell_type": "code",
   "execution_count": 18,
   "metadata": {},
   "outputs": [
    {
     "name": "stdout",
     "output_type": "stream",
     "text": [
      "epoch 40, perplexity 148.773890, time 1.09 sec\n",
      " - 分开 我想你的让我想想想想想想想想想想想想想想想想想想想想想想想想想想想想想想想想想想想想想想想想想想想\n",
      " - 不分开 我想你的让我想想想想想想想想想想想想想想想想想想想想想想想想想想想想想想想想想想想想想想想想想想想\n",
      "epoch 80, perplexity 32.552420, time 1.15 sec\n",
      " - 分开 我想要这样 我不要再想 我不要再想 我不要再想 我不要 爱你的美笑 像像的可爱女人 坏坏的让我疯狂\n",
      " - 不分开 爱不不觉 不知不觉 我不要再想 我不要再想 我不要 我不 我不 我不 我不 我不 我不 我不 我不\n",
      "epoch 120, perplexity 5.669898, time 1.22 sec\n",
      " - 分开 一直我 说你怎么每每 我说想这样 我想要这样打我妈妈 难道你手 我有一定看看 后知后觉 又知了一个\n",
      " - 不分开 爱知不觉 你来经没不舍 连色入秋 快使用双截棍 哼哼哈兮 快使用双截棍 哼哼哈兮 快使用双截棍 哼\n",
      "epoch 160, perplexity 1.726950, time 1.12 sec\n",
      " - 分开 这样的梦猫笑味河像  感不起 语沉默娘子 娘子在壶泣 我来将拖着走 静静悄悄默默离开 陷入了危险边\n",
      " - 不分开 已经 是你开的玩笑 想通 却又再考倒我 说散 你想很久了吧? 败真的黑笑幽会  有教了回对我的愿跳\n"
     ]
    }
   ],
   "source": [
    "gb.train_and_predict_rnn(gru, get_params, init_gru_state, num_hiddens,\n",
    "vocab_size, ctx, corpus_indices, idx_to_char,\n",
    "char_to_idx, False, num_epochs, num_steps, lr,\n",
    "clipping_theta, batch_size, pred_period, pred_len,\n",
    "prefixes)"
   ]
  },
  {
   "cell_type": "markdown",
   "metadata": {},
   "source": [
    "## 使用GLuon接口实现"
   ]
  },
  {
   "cell_type": "code",
   "execution_count": 28,
   "metadata": {},
   "outputs": [],
   "source": [
    "gru = rnn.GRU(1024)\n",
    "model = gb.RNNModel(gru,vocab_size)"
   ]
  },
  {
   "cell_type": "code",
   "execution_count": 31,
   "metadata": {},
   "outputs": [
    {
     "name": "stdout",
     "output_type": "stream",
     "text": [
      "epoch 40, perplexity 273.878454, time 0.30 sec\n",
      " - 我 我我我的 我我我的 我我我的 我我我的 我我我的 我我我的 我我我的 我我我的 我我我的 我我我的\n",
      " - 牵 我我我的 我我我的 我我我的 我我我的 我我我的 我我我的 我我我的 我我我的 我我我的 我我我的\n",
      "epoch 80, perplexity 179.696000, time 0.30 sec\n",
      " - 我 我不 我不 我不 我不 我不 我不 我不 我不 我不 我不 我不 我不 我不 我不 我不 我不 我\n",
      " - 牵 我不 我不 我不 我不 我不 我不 我不 我不 我不 我不 我不 我不 我不 我不 我不 我不 我\n",
      "epoch 120, perplexity 103.103691, time 0.30 sec\n",
      " - 我 你不再再 我不要再 我不要再 我不要再 我不要再 我不要再 我不要再 我不要再 我不要再 我不要再\n",
      " - 牵 我不要再 我不要再 我不要再 我不要再 我不要再 我不要再 我不要再 我不要再 我不要再 我不要再\n",
      "epoch 160, perplexity 55.813293, time 0.30 sec\n",
      " - 我 你的完美 你在西人 一颗步步 三颗四  什么我 有你的空 快人人  什么我 有你的美 快人人  什\n",
      " - 牵 我想你的爱笑 在西人人 在使村双 一颗四四  连什么 快使我 有有  什么我 有你的空 快使用截 \n",
      "epoch 200, perplexity 23.898157, time 0.30 sec\n",
      " - 我 你不再再想我不要 爱你的手不放开不能能可爱不能 爱可不可以简简单可可可女人 坏坏的让我疯狂的可爱女\n",
      " - 牵 我想要你想想你的怒火 我想揍你想想要 我不要再想你的怒火 我想揍你已经经不能 不要再再想你的怒火 \n",
      "epoch 240, perplexity 9.179181, time 0.30 sec\n",
      " - 我 你说啊这样着我的妈望就怎么 就怎么么 我有多努恼恼你奔跑跑不想想想要你 这样我的太笑 一壶看酒 又\n",
      " - 牵 你想就这样着我的愿望就怎么 就怎么么 我有多努恼恼你奔跑跑不想想想要你 这样我的太笑 一壶看酒 又\n",
      "epoch 280, perplexity 3.589548, time 0.30 sec\n",
      " - 我 你说啊 你怎么 我想想你牵着着 想这样没担忧 唱着歌 一直走 我想就这样牵着你的手不放开 爱可不能\n",
      " - 牵 我想想你骑布车 你这样的生笑 我说 你静 我想要你 说你怎么医药箱 别才刀很满棍 她天都有一个 她\n",
      "epoch 320, perplexity 1.750629, time 0.30 sec\n",
      " - 我 你不啊 是数我 一枚铜酒 周来伦 隐诉我 印地安的传说 还真是 瞎透了 什么都有 这故之中说 会有\n",
      " - 牵 我想想你骑骑车 你这样的生活 我爱你 你爱我 我想就这样牵着你的手不放开 爱能不能够永远单纯没有悲\n",
      "epoch 360, perplexity 1.215372, time 0.30 sec\n",
      " - 我 你说啊 你怎么打我手 你说啊 是不是你不想活 说你怎么面对我 甩开球我满腔的怒火 我想揍你已经很久\n",
      " - 牵 你说啊 是怎么打我手 你说啊 是不是你不想活 说你怎么面对我 甩开球我满腔的怒火 我想揍你已经很久\n",
      "epoch 400, perplexity 1.090030, time 0.30 sec\n",
      " - 我 你不啊 陪数怎么手手  说穿看看着我 甩开球我的腔寻 我想要你已经很久 别想躲 说你眼睛看着我 别\n",
      " - 牵你 想作啊 是怎么打我手 你说啊 是不是你不想活 说你怎么面对我 甩开球我满腔的怒火 我想揍你已经很\n",
      "epoch 440, perplexity 1.052714, time 0.30 sec\n",
      " - 我球 你说啊 你怎么打我手 你说啊 是不是你不想活 说你怎么面对我 甩开球我满腔的怒火 我想揍你已经很\n",
      " - 牵著一直到老 就是开不了口让她知道 就是那么简单几句 我办不到 整颗心悬在半空 我只能够远远看著 这些\n",
      "epoch 480, perplexity 1.045550, time 0.30 sec\n",
      " - 我球 你说啊 你怎么打我手 你说啊 是不是你不想活 说你怎么面对我 甩开球我满腔的怒火 我想揍你已经很\n",
      " - 牵著一直到老 就是开不了口让她知道 就是那么简单几句 我办不到 整颗心悬在半空 我只能够远远看著 这些\n"
     ]
    }
   ],
   "source": [
    "gb.train_and_predict_rnn_gluon(model, num_hiddens, vocab_size, ctx,\n",
    "corpus_indices, idx_to_char, char_to_idx,\n",
    "num_epochs, num_steps, lr, clipping_theta,\n",
    "batch_size, pred_period, pred_len, prefixes)"
   ]
  },
  {
   "cell_type": "markdown",
   "metadata": {},
   "source": [
    "## num_timesteps 越大 收敛速度越慢"
   ]
  },
  {
   "cell_type": "code",
   "execution_count": null,
   "metadata": {},
   "outputs": [],
   "source": []
  }
 ],
 "metadata": {
  "kernelspec": {
   "display_name": "Python3",
   "language": "python",
   "name": "python3"
  },
  "language_info": {
   "codemirror_mode": {
    "name": "ipython",
    "version": 3
   },
   "file_extension": ".py",
   "mimetype": "text/x-python",
   "name": "python",
   "nbconvert_exporter": "python",
   "pygments_lexer": "ipython3",
   "version": "3.6.4"
  }
 },
 "nbformat": 4,
 "nbformat_minor": 2
}
