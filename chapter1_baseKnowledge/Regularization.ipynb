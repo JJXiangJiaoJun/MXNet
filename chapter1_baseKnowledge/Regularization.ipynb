{
 "cells": [
  {
   "cell_type": "code",
   "execution_count": 1,
   "metadata": {},
   "outputs": [
    {
     "name": "stderr",
     "output_type": "stream",
     "text": [
      "C:\\Users\\lenovo\\Anaconda3\\lib\\site-packages\\h5py\\__init__.py:36: FutureWarning: Conversion of the second argument of issubdtype from `float` to `np.floating` is deprecated. In future, it will be treated as `np.float64 == np.dtype(float).type`.\n",
      "  from ._conv import register_converters as _register_converters\n"
     ]
    }
   ],
   "source": [
    "import mxnet as mx\n",
    "import numpy as np\n",
    "import matplotlib as mpl\n",
    "import matplotlib.pyplot as plt\n",
    "from mxnet import nd\n",
    "from mxnet import autograd, gluon, init, nd\n",
    "from mxnet.gluon import data as gdata, loss as gloss, nn"
   ]
  },
  {
   "cell_type": "markdown",
   "metadata": {},
   "source": [
    "## 用一个高维的线性回归来模拟过拟合，只有20个训练样本"
   ]
  },
  {
   "cell_type": "code",
   "execution_count": 2,
   "metadata": {},
   "outputs": [],
   "source": [
    "n_train ,n_test,num_inputs = 20,100,200\n",
    "true_w ,true_b = nd.ones((num_inputs,1),ctx=mx.gpu())*0.01,0.05"
   ]
  },
  {
   "cell_type": "code",
   "execution_count": 3,
   "metadata": {},
   "outputs": [],
   "source": [
    "features = nd.random.normal(scale=1,shape = (n_train+n_test,num_inputs),ctx = mx.gpu())"
   ]
  },
  {
   "cell_type": "code",
   "execution_count": 4,
   "metadata": {},
   "outputs": [],
   "source": [
    "labels = nd.dot(features,true_w)+ true_b\n",
    "labels += nd.random.normal(scale=0.01,shape = labels.shape,ctx = mx.gpu()) "
   ]
  },
  {
   "cell_type": "code",
   "execution_count": 5,
   "metadata": {},
   "outputs": [],
   "source": [
    "train_features,test_features = features[:n_train,:],features[n_train:,:]\n",
    "train_labels,test_labels = labels[:n_train],labels[n_train:]"
   ]
  },
  {
   "cell_type": "markdown",
   "metadata": {},
   "source": [
    "## 搭建模型初始化参数"
   ]
  },
  {
   "cell_type": "code",
   "execution_count": 6,
   "metadata": {},
   "outputs": [],
   "source": [
    "def init_param():\n",
    "    w = nd.random.normal(scale=0.01,shape=(num_inputs,1),ctx=mx.gpu())\n",
    "    b = nd.zeros(shape = (1,),ctx = mx.gpu())\n",
    "    \n",
    "    params = [w,b]\n",
    "    for param in params:\n",
    "        param.attach_grad()\n",
    "    return params"
   ]
  },
  {
   "cell_type": "markdown",
   "metadata": {},
   "source": [
    "## 搭建模型"
   ]
  },
  {
   "cell_type": "code",
   "execution_count": 13,
   "metadata": {},
   "outputs": [],
   "source": [
    "def net(X,w,b):\n",
    "    return nd.dot(X.reshape(-1,num_inputs),w)+b"
   ]
  },
  {
   "cell_type": "markdown",
   "metadata": {},
   "source": [
    "## 定义L2惩罚项"
   ]
  },
  {
   "cell_type": "code",
   "execution_count": 8,
   "metadata": {},
   "outputs": [],
   "source": [
    "def l2_penalty(w):\n",
    "    return (w**2).sum()/2"
   ]
  },
  {
   "cell_type": "markdown",
   "metadata": {},
   "source": [
    "## 定义损失函数"
   ]
  },
  {
   "cell_type": "code",
   "execution_count": 12,
   "metadata": {},
   "outputs": [],
   "source": [
    "#平方损失函数\n",
    "def squared_loss(y_pred,y):\n",
    "    return ((y_pred-y)**2)/2"
   ]
  },
  {
   "cell_type": "markdown",
   "metadata": {},
   "source": [
    "## 定义优化器"
   ]
  },
  {
   "cell_type": "code",
   "execution_count": 10,
   "metadata": {},
   "outputs": [],
   "source": [
    "def sgd(params,batch_size,learning_rate):\n",
    "    for param in params:\n",
    "        param[:] = param-param.grad*learning_rate/batch_size"
   ]
  },
  {
   "cell_type": "code",
   "execution_count": 11,
   "metadata": {},
   "outputs": [],
   "source": [
    "batch_size ,num_epochs,lr = 1,100,0.003\n",
    "train_iter = gdata.DataLoader(gdata.ArrayDataset(train_features,train_labels),batch_size,shuffle=True)"
   ]
  },
  {
   "cell_type": "code",
   "execution_count": 22,
   "metadata": {},
   "outputs": [],
   "source": [
    "def semilogy(x_vals,y_vals,x_labels,y_labels,x2_vals=None,y2_vals=None,legend=None,figsize=(3.5,2.5)):\n",
    "    \n",
    "    plt.figure(figsize=figsize)\n",
    "    plt.xlabel(x_labels)\n",
    "    plt.ylabel(y_labels)\n",
    "    plt.semilogy(x_vals,y_vals)\n",
    "    \n",
    "    if x2_vals and y2_vals:\n",
    "        plt.semilogy(x2_vals,y2_vals,linestyle=':')\n",
    "        plt.legend(legend)"
   ]
  },
  {
   "cell_type": "code",
   "execution_count": 17,
   "metadata": {},
   "outputs": [],
   "source": [
    "def fit_and_plot(lambd):\n",
    "    w,b = init_param()  #获取模型参数\n",
    "    train_loss=[]\n",
    "    test_loss =[]\n",
    "    for epoch in range(1,num_epochs+1):\n",
    "        for X,y in train_iter:\n",
    "            with autograd.record():\n",
    "                y_pred = net(X,w,b)           \n",
    "                l = squared_loss(y_pred,y) + lambd*l2_penalty(w)\n",
    "            l.backward()\n",
    "            sgd([w,b],batch_size,lr)\n",
    "        train_loss.append(squared_loss(net(train_features,w,b),train_labels).mean().asscalar())\n",
    "        test_loss.append(squared_loss(net(test_features,w,b),test_labels).mean().asscalar())\n",
    "        \n",
    "    \n",
    "    #下面进行绘图\n",
    "    semilogy(range(1,num_epochs+1),train_loss,'epochs','loss',range(1,num_epochs+1),test_loss,\n",
    "            ['train_loss','test_loss'])\n",
    "    print('L2 norm of w:', w.norm().asscalar())"
   ]
  },
  {
   "cell_type": "code",
   "execution_count": 23,
   "metadata": {},
   "outputs": [
    {
     "name": "stdout",
     "output_type": "stream",
     "text": [
      "L2 norm of w: 0.13737884\n"
     ]
    },
    {
     "data": {
      "image/png": "[encoded data removed]",
      "text/plain": [
       "<matplotlib.figure.Figure at 0x2f00db455c0>"
      ]
     },
     "metadata": {},
     "output_type": "display_data"
    }
   ],
   "source": [
    "fit_and_plot(lambd = 0)"
   ]
  },
  {
   "cell_type": "code",
   "execution_count": 24,
   "metadata": {},
   "outputs": [
    {
     "name": "stdout",
     "output_type": "stream",
     "text": [
      "L2 norm of w: 0.025062345\n"
     ]
    },
    {
     "data": {
      "image/png": "[encoded data removed]",
      "text/plain": [
       "<matplotlib.figure.Figure at 0x2f00e130ef0>"
      ]
     },
     "metadata": {},
     "output_type": "display_data"
    }
   ],
   "source": [
    "fit_and_plot(lambd = 2)"
   ]
  },
  {
   "cell_type": "code",
   "execution_count": 25,
   "metadata": {},
   "outputs": [
    {
     "name": "stdout",
     "output_type": "stream",
     "text": [
      "L2 norm of w: 0.021856852\n"
     ]
    },
    {
     "data": {
      "image/png": "[encoded data removed]",
      "text/plain": [
       "<matplotlib.figure.Figure at 0x2f00de97358>"
      ]
     },
     "metadata": {},
     "output_type": "display_data"
    }
   ],
   "source": [
    "fit_and_plot(lambd = 5)"
   ]
  },
  {
   "cell_type": "code",
   "execution_count": 26,
   "metadata": {},
   "outputs": [
    {
     "name": "stdout",
     "output_type": "stream",
     "text": [
      "L2 norm of w: 0.024045309\n"
     ]
    },
    {
     "data": {
      "image/png": "[encoded data removed]",
      "text/plain": [
       "<matplotlib.figure.Figure at 0x2eff7745c50>"
      ]
     },
     "metadata": {},
     "output_type": "display_data"
    }
   ],
   "source": [
    "fit_and_plot(lambd = 3)"
   ]
  },
  {
   "cell_type": "markdown",
   "metadata": {},
   "source": [
    "## gluon接口实现 通过优化器 'wd'来设置衰减参数"
   ]
  },
  {
   "cell_type": "code",
   "execution_count": 32,
   "metadata": {},
   "outputs": [],
   "source": [
    "loss = gloss.L2Loss()\n",
    "\n",
    "def fit_and_plot_gluon(lambd):\n",
    "    net = nn.Sequential()\n",
    "    net.add(nn.Dense(1))\n",
    "    net.initialize(init.Normal(sigma=1),ctx = mx.gpu())\n",
    "    \n",
    "    trainer_w = gluon.Trainer(net.collect_params('.*weight'),'sgd',\n",
    "                             {'learning_rate':lr,'wd':lambd})\n",
    "    trainer_b =gluon.Trainer(net.collect_params('.*bias'),'sgd',\n",
    "                            {'learning_rate':lr})\n",
    "    train_ls,test_ls = [],[]\n",
    "    \n",
    "    for _ in range(num_epochs):\n",
    "        for X,y in train_iter:\n",
    "            with autograd.record():\n",
    "                l = loss(net(X),y)\n",
    "            l.backward()\n",
    "            trainer_w.step(batch_size)\n",
    "            trainer_b.step(batch_size)\n",
    "        \n",
    "        train_ls.append(loss(net(train_features),train_labels).mean().asscalar())\n",
    "        test_ls.append(loss(net(test_features),test_labels).mean().asscalar())\n",
    "        \n",
    "    \n",
    "    #绘图\n",
    "    semilogy(range(1, num_epochs + 1), train_ls, 'epochs', 'loss',\n",
    "             range(1, num_epochs + 1), test_ls, ['train', 'test'])\n",
    "    print('L2 norm of w:'+str(net[0].weight.data().norm().asscalar()))"
   ]
  },
  {
   "cell_type": "code",
   "execution_count": 33,
   "metadata": {},
   "outputs": [
    {
     "name": "stdout",
     "output_type": "stream",
     "text": [
      "L2 norm of w:13.115853\n"
     ]
    },
    {
     "data": {
      "image/png": "[encoded data removed]",
      "text/plain": [
       "<matplotlib.figure.Figure at 0x2f00ea5b2e8>"
      ]
     },
     "metadata": {},
     "output_type": "display_data"
    }
   ],
   "source": [
    "fit_and_plot_gluon(0)"
   ]
  },
  {
   "cell_type": "code",
   "execution_count": 34,
   "metadata": {},
   "outputs": [
    {
     "name": "stdout",
     "output_type": "stream",
     "text": [
      "L2 norm of w:0.026388168\n"
     ]
    },
    {
     "data": {
      "image/png": "[encoded data removed]",
      "text/plain": [
       "<matplotlib.figure.Figure at 0x2f00f23d4a8>"
      ]
     },
     "metadata": {},
     "output_type": "display_data"
    }
   ],
   "source": [
    "fit_and_plot_gluon(3)"
   ]
  },
  {
   "cell_type": "code",
   "execution_count": null,
   "metadata": {},
   "outputs": [],
   "source": []
  }
 ],
 "metadata": {
  "kernelspec": {
   "display_name": "Python3",
   "language": "python",
   "name": "python3"
  },
  "language_info": {
   "codemirror_mode": {
    "name": "ipython",
    "version": 3
   },
   "file_extension": ".py",
   "mimetype": "text/x-python",
   "name": "python",
   "nbconvert_exporter": "python",
   "pygments_lexer": "ipython3",
   "version": "3.6.4"
  }
 },
 "nbformat": 4,
 "nbformat_minor": 2
}
