{
 "cells": [
  {
   "cell_type": "markdown",
   "metadata": {},
   "source": [
    "## LSTM (long short-term memory)长短期记忆神经网络"
   ]
  },
  {
   "cell_type": "markdown",
   "metadata": {},
   "source": [
    "+ 长短期记忆神经网络和GRU很类似，只是门的类型更多，而且结构比GRU更加复杂一些"
   ]
  },
  {
   "cell_type": "markdown",
   "metadata": {},
   "source": [
    "LSTM中包含以下单元：\n",
    "* 输入门(input gate)\n",
    "* 输出门(output gate)\n",
    "* 遗忘门(forget gate)\n",
    "* 与隐藏状态形状相同的记忆细胞"
   ]
  },
  {
   "cell_type": "code",
   "execution_count": 1,
   "metadata": {},
   "outputs": [],
   "source": [
    "import sys\n",
    "sys.path.append('../')"
   ]
  },
  {
   "cell_type": "code",
   "execution_count": 5,
   "metadata": {},
   "outputs": [],
   "source": [
    "import gluonbook as gb\n",
    "import mxnet as mx\n",
    "from mxnet import init,autograd,gluon,nd\n",
    "from mxnet.gluon import data as gdata,loss as gloss,rnn,nn"
   ]
  },
  {
   "cell_type": "markdown",
   "metadata": {},
   "source": [
    "## 读取数据"
   ]
  },
  {
   "cell_type": "code",
   "execution_count": 6,
   "metadata": {},
   "outputs": [],
   "source": [
    "(corpus_indices, char_to_idx, idx_to_char,\n",
    "vocab_size) = gb.load_data_jay_lyrics()"
   ]
  },
  {
   "cell_type": "code",
   "execution_count": 7,
   "metadata": {},
   "outputs": [],
   "source": [
    "ctx = gb.try_gpu()"
   ]
  },
  {
   "cell_type": "markdown",
   "metadata": {},
   "source": [
    "## 从零开始实现LSTM"
   ]
  },
  {
   "cell_type": "markdown",
   "metadata": {},
   "source": [
    "- 定义参数"
   ]
  },
  {
   "cell_type": "code",
   "execution_count": 26,
   "metadata": {},
   "outputs": [],
   "source": [
    "num_inputs, num_hiddens, num_outputs = vocab_size, 256, vocab_size\n",
    "def get_params():\n",
    "    def _one(shape):\n",
    "        return nd.random.normal(scale=0.01,shape=shape,ctx=ctx)\n",
    "    def _three():\n",
    "        return (_one((num_inputs,num_hiddens)),_one((num_hiddens,num_hiddens)),nd.zeros(shape=(1,num_hiddens),ctx=ctx))\n",
    "    \n",
    "    #下面定义模型参数\n",
    "    #输入门\n",
    "    W_xi,W_hi,bi = _three()\n",
    "    #遗忘门\n",
    "    W_xf,W_hf,bf = _three()\n",
    "    #输出门\n",
    "    W_xo,W_ho,bo = _three()\n",
    "    \n",
    "    #候选记忆细胞参数\n",
    "    W_xc,W_hc,bc = _three()\n",
    "    \n",
    "    #输出层参数\n",
    "    W_hq,bq = _one((num_hiddens,num_outputs)),nd.zeros(shape = (1,num_outputs),ctx=ctx)\n",
    "    \n",
    "    #申请求导的梯度\n",
    "    params = [W_xi,W_hi,bi,W_xf,W_hf,bf,W_xo,W_ho,bo,W_xc,W_hc,bc,W_hq,bq] \n",
    "    for param in params:\n",
    "        param.attach_grad()\n",
    "        \n",
    "    return params"
   ]
  },
  {
   "cell_type": "markdown",
   "metadata": {},
   "source": [
    "## 定义初始的隐藏层状态,以及记忆细胞状态"
   ]
  },
  {
   "cell_type": "code",
   "execution_count": 27,
   "metadata": {},
   "outputs": [],
   "source": [
    "def init_lstm_state(batch_size,num_hiddens,ctx):\n",
    "    return (nd.zeros(shape=(batch_size,num_hiddens),ctx=ctx),\n",
    "             nd.zeros(shape=(batch_size,num_hiddens),ctx=ctx))"
   ]
  },
  {
   "cell_type": "markdown",
   "metadata": {},
   "source": [
    "## 定义模型运算"
   ]
  },
  {
   "cell_type": "code",
   "execution_count": 40,
   "metadata": {},
   "outputs": [],
   "source": [
    "def lstm(inputs,state,params):\n",
    "    #获取参数\n",
    "    W_xi,W_hi,bi,W_xf,W_hf,bf,W_xo,W_ho,bo,W_xc,W_hc,bc,W_hq,bq = params\n",
    "    outputs = []\n",
    "    H,C = state\n",
    "    \n",
    "    for X in inputs:\n",
    "        #计算遗忘门、输出门、以及输入门的值\n",
    "        It = nd.sigmoid(nd.dot(X,W_xi)+nd.dot(H,W_hi)+bi)\n",
    "        Ft = nd.sigmoid(nd.dot(X,W_xf)+nd.dot(H,W_hf)+bf)\n",
    "        Ot = nd.sigmoid(nd.dot(X,W_xo)+nd.dot(H,W_ho)+bo)\n",
    "        \n",
    "        #计算隐藏记忆细胞的状态\n",
    "        C_temp = nd.tanh(nd.dot(X,W_xc)+nd.dot(H,W_hc)+bc)\n",
    "        #计算记忆细胞的状态\n",
    "        C = Ft*C+It*C_temp\n",
    "        #计算隐藏层的输出\n",
    "        #??怎么感觉并没有变化\n",
    "        #H = Ot*nd.tanh(C)\n",
    "        H = Ot*C\n",
    "        #计算输出\n",
    "        Y = nd.dot(H,W_hq)+bq\n",
    "        outputs.append(Y)\n",
    "        \n",
    "    return outputs,(H,C)"
   ]
  },
  {
   "cell_type": "code",
   "execution_count": 41,
   "metadata": {},
   "outputs": [],
   "source": [
    "num_epochs, num_steps, batch_size, lr, clipping_theta = 160, 35, 32, 1e2, 1e-2\n",
    "pred_period, pred_len, prefixes = 40, 50, ['分开', '不分开']"
   ]
  },
  {
   "cell_type": "code",
   "execution_count": 42,
   "metadata": {},
   "outputs": [
    {
     "name": "stdout",
     "output_type": "stream",
     "text": [
      "epoch 40, perplexity 208.989478, time 1.27 sec\n",
      " - 分开 我不的我 我不的我 我不的我 我不的我 我不的我 我不的我 我不的我 我不的我 我不的我 我不的我\n",
      " - 不分开 我不的我的 我不的我 我不的我 我不的我 我不的我 我不的我 我不的我 我不的我 我不的我 我不的\n",
      "epoch 80, perplexity 59.714836, time 1.33 sec\n",
      " - 分开 我想你你的你 我想要你你 我不要这样 我不不你 我不了这节 我不不觉 我不了这节 我不好觉 我不了\n",
      " - 不分开 我想你你的你 我想要你你 我不要我 我不不我 我不不你 我不不这 我不不 我不 我不 我不 我不 \n",
      "epoch 120, perplexity 8.312130, time 1.30 sec\n",
      " - 分开 我想要你的微笑 想想 你你再的玩笑 就通 你想再久了吧? 我想你你想很很  想穿你的你笑就就想 怎\n",
      " - 不分开 我想要你的微笑每天想想想能到 我能道这天很美但住乡的你更美美 就想的伊坦 我不多这汉汉你 我想你你\n",
      "epoch 160, perplexity 2.999561, time 1.39 sec\n",
      " - 分开 我想了你你 单着银一不不 景色入秋 我天黄沙节奏 我该好好生活 不知不觉 你已经离开我 不知不觉 \n",
      " - 不分开 我已经 你你我 我想开声样牵 我不不依主舍 连隔壁我居都猜到我我想的声受受河河 祭司的神女 让要开\n"
     ]
    }
   ],
   "source": [
    "gb.train_and_predict_rnn(lstm, get_params, init_lstm_state, num_hiddens,\n",
    "vocab_size, ctx, corpus_indices, idx_to_char,\n",
    "char_to_idx, False, num_epochs, num_steps, lr,\n",
    "clipping_theta, batch_size, pred_period, pred_len,\n",
    "prefixes)"
   ]
  },
  {
   "cell_type": "markdown",
   "metadata": {},
   "source": [
    "## 使用gluon接口实现"
   ]
  },
  {
   "cell_type": "code",
   "execution_count": 39,
   "metadata": {},
   "outputs": [
    {
     "name": "stdout",
     "output_type": "stream",
     "text": [
      "epoch 40, perplexity 223.303183, time 0.11 sec\n",
      " - 分开 我不的我 我不的我 我不的我 我不的我 我不的我 我不的我 我不的我 我不的我 我不的我 我不的我\n",
      " - 不分开 我不的我 我不的我 我不的我 我不的我 我不的我 我不的我 我不的我 我不的我 我不的我 我不的我\n",
      "epoch 80, perplexity 64.643018, time 0.11 sec\n",
      " - 分开 我想你你的你 我有你你 我不要这我 我不要这 我不要这 我不要这 我不要这 我不好这 我不好觉 我\n",
      " - 不分开 我想你你的你 我想你你的你 我想你你 我不要这我 我不要这 我不要这 我不要这 我不要这 我不好觉\n",
      "epoch 120, perplexity 13.781476, time 0.12 sec\n",
      " - 分开 我想想你 我我要要 你你在 是怎我 说你怎 是你怎么的你说 说你了么我说说 说说球 我想我要难头 \n",
      " - 不分开你的让面 想想要你想经单单 想想 你想我想我 说样 我想很久久吧  说  你给很了吧吧 像散  又给\n",
      "epoch 160, perplexity 3.605985, time 0.11 sec\n",
      " - 分开 我想带你 我不多难熬我 没你你烦我有一场恼剧 我感那这了坦美不家 不懂你的你 让我的美 你经的美样\n",
      " - 不分开你 经经的假女 我要要你我 我有 我不要 我想了这生活 不知不觉 你已经离开我 不知不觉 我跟了这节\n",
      "epoch 200, perplexity 1.653556, time 0.11 sec\n",
      " - 分开 别是我 是是是枪手 巫师 他念念 有有的 在长长 不上变明的片墙 干什么 干什么 已行病一夫招开 \n",
      " - 不分开走走封面 想要要这不坦 却你都童话打我 我想 你原你堡每每你 不不开 一颗我抬起头 说话去么医药箱说\n",
      "epoch 240, perplexity 1.244419, time 0.12 sec\n",
      " - 分开 我想悔的你你 每常依不不气气气 就么一九 三子我 别经我  没有你在我有多 恼多就我 你这球球 我\n",
      " - 不分开觉 后作你 开简我 我不大声宣对 对你依依不舍 连隔壁邻居都猜到我现在的感受 河边的风 在吹着头发飘\n",
      "epoch 280, perplexity 1.118267, time 0.11 sec\n",
      " - 分开 问候我 谁是神枪手 巫师 他念念 有词的 对酋长下诅咒 还我骷髅头 这故事 告诉我 印地安的传说 \n",
      " - 不分开受 已作的假息 单知不觉不动 漂爱你邻后离 什么都靠值得 瞎呆都我 说场盯人防守 篮下禁区游走 快攻\n",
      "epoch 320, perplexity 1.076670, time 0.12 sec\n",
      " - 分开 问候我 谁是神枪手手巫 我给得髅 飞故马  想子功夫最擅长长还 还满休飞的铁步默  它死了它你的来\n",
      " - 不分开受我 经开人 我简要 我不要 这对伦没有嘛欢开于多我 爱不承风风圈来出 不么我也睡 我要一这样打我妈\n",
      "epoch 360, perplexity 1.059852, time 0.11 sec\n",
      " - 分开 问候我 谁是神枪手 巫师 他念念 有词的 对酋长下诅咒 还我骷髅头 这故事 告诉 印地地的传说 还\n",
      " - 不分开觉 你已经离开我 不知不觉 我跟了这节奏 后知后觉 又过了一个秋 后知后觉 我该好好生活 我该好好生\n",
      "epoch 400, perplexity 1.053106, time 0.11 sec\n",
      " - 分开 问候我 谁是神枪手 巫师 他念念 有词的 对酋长下诅咒 还我骷髅头 一故事 告诉我 印地安的传说 \n",
      " - 不分开觉我 经不人 经简我 我不要没我错错错错烦 拜托开不不够 让我不能 我爱我的我不 我不不觉 你爱我不\n",
      "epoch 440, perplexity 1.034847, time 0.12 sec\n",
      " - 分开 问候我 谁是神枪手手巫巫我 泪不休 语沉默娘子她人在在南等等 心不休休隐密的河墓的漫愿 夕古方木板\n",
      " - 不分开觉我 经不开 你简我 想分我 一弄空中面说你一龙卷多 心可承受我已无处可躲 我不要再想 我不要再想 \n",
      "epoch 480, perplexity 1.041220, time 0.11 sec\n",
      " - 分开 问候我 谁是神枪手 巫师 他念念 有词的 对酋长下诅咒 还我骷髅头 这故事 告诉我 印地安的传说 \n",
      " - 不分开觉 你已经离开么我不知 难道你手不会痛吗 其实我回家就想要阻止一切 让家庭回到过去甜甜 温馨的欢乐香\n"
     ]
    }
   ],
   "source": [
    "lstm_cell = rnn.LSTM(num_hiddens)\n",
    "model = gb.RNNModel(lstm_cell,vocab_size)\n",
    "gb.train_and_predict_rnn_gluon(model, num_hiddens, vocab_size, ctx,\n",
    "corpus_indices, idx_to_char, char_to_idx,\n",
    "num_epochs, num_steps, lr, clipping_theta,\n",
    "batch_size, pred_period, pred_len, prefixes)"
   ]
  },
  {
   "cell_type": "markdown",
   "metadata": {},
   "source": [
    "- 既然候选记忆细胞已通过使⽤ tanh 函数确保值域在 -1 到 1 之间，为什么隐藏状态还需再次使⽤ tanh 函数来确保输出值域在 -1 到 1 之间？"
   ]
  },
  {
   "cell_type": "markdown",
   "metadata": {},
   "source": [
    "由于当tanh输出为接近-1或1时梯度很小，更新很慢，所以再进行一次映射，可以增加梯度，从而加快收敛速度"
   ]
  },
  {
   "cell_type": "code",
   "execution_count": null,
   "metadata": {},
   "outputs": [],
   "source": []
  }
 ],
 "metadata": {
  "kernelspec": {
   "display_name": "Python3",
   "language": "python",
   "name": "python3"
  },
  "language_info": {
   "codemirror_mode": {
    "name": "ipython",
    "version": 3
   },
   "file_extension": ".py",
   "mimetype": "text/x-python",
   "name": "python",
   "nbconvert_exporter": "python",
   "pygments_lexer": "ipython3",
   "version": "3.6.4"
  }
 },
 "nbformat": 4,
 "nbformat_minor": 2
}
