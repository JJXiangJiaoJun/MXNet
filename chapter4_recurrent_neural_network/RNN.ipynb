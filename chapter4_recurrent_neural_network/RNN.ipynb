{
 "cells": [
  {
   "cell_type": "markdown",
   "metadata": {},
   "source": [
    "# 循环神经网络"
   ]
  },
  {
   "cell_type": "markdown",
   "metadata": {},
   "source": [
    "循环神经网络增加了一个隐藏层的状态，用来保存上一次隐藏层的输出"
   ]
  },
  {
   "cell_type": "code",
   "execution_count": 2,
   "metadata": {},
   "outputs": [],
   "source": [
    "import mxnet as mx\n",
    "from mxnet import nd,init,autograd,gluon\n",
    "from mxnet.gluon import data as gdata,loss as gloss,nn"
   ]
  },
  {
   "cell_type": "code",
   "execution_count": 3,
   "metadata": {},
   "outputs": [],
   "source": [
    "with mx.Context(mx.gpu()):\n",
    "    X,W_xh = nd.random.uniform(shape=(3,1)),nd.random.uniform(shape=(1,4))\n",
    "    H,W_hh = nd.random.uniform(shape=(3,2)),nd.random.normal(shape=(2,4))"
   ]
  },
  {
   "cell_type": "code",
   "execution_count": 4,
   "metadata": {},
   "outputs": [
    {
     "data": {
      "text/plain": [
       "\n",
       "[[-0.3906138   0.6887717  -0.1507695   0.2044617 ]\n",
       " [-0.32428595  0.45451713 -0.06134111  0.5520526 ]\n",
       " [-0.00540856  0.18232454  0.08158631  0.6362022 ]]\n",
       "<NDArray 3x4 @gpu(0)>"
      ]
     },
     "execution_count": 4,
     "metadata": {},
     "output_type": "execute_result"
    }
   ],
   "source": [
    "nd.dot(X,W_xh)+nd.dot(H,W_hh)"
   ]
  },
  {
   "cell_type": "code",
   "execution_count": 6,
   "metadata": {},
   "outputs": [
    {
     "data": {
      "text/plain": [
       "\n",
       "[[-0.39061373  0.6887717  -0.1507695   0.2044617 ]\n",
       " [-0.32428592  0.45451707 -0.06134112  0.5520526 ]\n",
       " [-0.00540856  0.18232453  0.08158632  0.6362022 ]]\n",
       "<NDArray 3x4 @gpu(0)>"
      ]
     },
     "execution_count": 6,
     "metadata": {},
     "output_type": "execute_result"
    }
   ],
   "source": [
    "nd.dot(nd.concat(X,H,dim=1),nd.concat(W_xh,W_hh,dim=0))"
   ]
  },
  {
   "cell_type": "code",
   "execution_count": null,
   "metadata": {},
   "outputs": [],
   "source": []
  }
 ],
 "metadata": {
  "kernelspec": {
   "display_name": "Python3",
   "language": "python",
   "name": "python3"
  },
  "language_info": {
   "codemirror_mode": {
    "name": "ipython",
    "version": 3
   },
   "file_extension": ".py",
   "mimetype": "text/x-python",
   "name": "python",
   "nbconvert_exporter": "python",
   "pygments_lexer": "ipython3",
   "version": "3.6.4"
  }
 },
 "nbformat": 4,
 "nbformat_minor": 2
}
