{
 "cells": [
  {
   "cell_type": "code",
   "execution_count": 1,
   "metadata": {},
   "outputs": [],
   "source": [
    "import sys\n",
    "sys.path.insert(0,'..')"
   ]
  },
  {
   "cell_type": "code",
   "execution_count": 2,
   "metadata": {
    "scrolled": true
   },
   "outputs": [
    {
     "name": "stderr",
     "output_type": "stream",
     "text": [
      "C:\\Users\\lenovo\\Anaconda3\\lib\\site-packages\\h5py\\__init__.py:36: FutureWarning: Conversion of the second argument of issubdtype from `float` to `np.floating` is deprecated. In future, it will be treated as `np.float64 == np.dtype(float).type`.\n",
      "  from ._conv import register_converters as _register_converters\n"
     ]
    }
   ],
   "source": [
    "import mxnet as mx\n",
    "from mxnet import nd,gluon,contrib,image,autograd,init\n",
    "from mxnet.gluon import data as gdata,loss as gloss,nn\n",
    "import gluonbook as gb\n",
    "import time"
   ]
  },
  {
   "cell_type": "markdown",
   "metadata": {},
   "source": [
    "* 定义一个类别预测层，其中通道数表示预测的类别，输出特征图高和宽不变，通道数为 每个像素锚框个数x（类别个数+1）"
   ]
  },
  {
   "cell_type": "code",
   "execution_count": 3,
   "metadata": {},
   "outputs": [],
   "source": [
    "#输入的num_anchors表示每个像素的锚框数\n",
    "def cls_pred(num_anchors,num_classes):\n",
    "    return nn.Conv2D(channels=num_anchors*(num_classes+1),kernel_size=3,padding=1)\n"
   ]
  },
  {
   "cell_type": "code",
   "execution_count": 4,
   "metadata": {},
   "outputs": [],
   "source": [
    "def bbox_pred(num_anchors):\n",
    "    return nn.Conv2D(channels=num_anchors*4,kernel_size=3,padding=1)"
   ]
  },
  {
   "cell_type": "markdown",
   "metadata": {},
   "source": [
    "* 定义一个合并输出的函数"
   ]
  },
  {
   "cell_type": "code",
   "execution_count": 5,
   "metadata": {},
   "outputs": [],
   "source": [
    "def flatten_pred(pred):\n",
    "    return pred.transpose((0,2,3,1)).flatten()\n",
    "\n",
    "def concat_preds(preds):\n",
    "    return nd.concat(*[flatten_pred(pred) for pred in preds],dim=1)"
   ]
  },
  {
   "cell_type": "markdown",
   "metadata": {},
   "source": [
    "* 定义降采样模块"
   ]
  },
  {
   "cell_type": "code",
   "execution_count": 6,
   "metadata": {},
   "outputs": [],
   "source": [
    "def down_sample_blk(num_channels):\n",
    "    blk = nn.Sequential()\n",
    "    for _ in range(2):\n",
    "        blk.add(nn.BatchNorm(),nn.Activation('relu'),\n",
    "               nn.Conv2D(num_channels,kernel_size=3,padding=1))\n",
    "    #最后接一个最大池化层\n",
    "    blk.add(nn.MaxPool2D(pool_size=2,strides=2))\n",
    "    return blk"
   ]
  },
  {
   "cell_type": "code",
   "execution_count": 7,
   "metadata": {},
   "outputs": [
    {
     "data": {
      "text/plain": [
       "(2, 10, 10, 10)"
      ]
     },
     "execution_count": 7,
     "metadata": {},
     "output_type": "execute_result"
    }
   ],
   "source": [
    "def forward(x, block):\n",
    "    block.initialize()\n",
    "    return block(x)\n",
    "forward(nd.zeros((2, 3, 20, 20)), down_sample_blk(10)).shape"
   ]
  },
  {
   "cell_type": "markdown",
   "metadata": {},
   "source": [
    "* 定义基础网络块，用来抽取特征"
   ]
  },
  {
   "cell_type": "code",
   "execution_count": 8,
   "metadata": {},
   "outputs": [
    {
     "data": {
      "text/plain": [
       "(2, 64, 32, 32)"
      ]
     },
     "execution_count": 8,
     "metadata": {},
     "output_type": "execute_result"
    }
   ],
   "source": [
    "#可以自己定义比如说resnet等等\n",
    "def base_net():\n",
    "    blk = nn.Sequential()\n",
    "    for num_filters in [16,32,64]:\n",
    "        blk.add(down_sample_blk(num_filters))\n",
    "    return blk\n",
    "forward(nd.zeros((2, 3, 256, 256)), base_net()).shape"
   ]
  },
  {
   "cell_type": "markdown",
   "metadata": {},
   "source": [
    "## 完整的SSD模型\n",
    "* 基础网络块\n",
    "* 3个高和宽减半模块\n",
    "* 全局最大池化层\n",
    "每个模块都会生成锚框并且预测边界框回归和类别"
   ]
  },
  {
   "cell_type": "code",
   "execution_count": 9,
   "metadata": {},
   "outputs": [],
   "source": [
    "def get_blk(i):\n",
    "    if i==0:\n",
    "        return base_net()\n",
    "    elif i==4:\n",
    "        return nn.GlobalMaxPool2D()\n",
    "    else:\n",
    "        return down_sample_blk(128)"
   ]
  },
  {
   "cell_type": "markdown",
   "metadata": {},
   "source": [
    "## 定义SSD的运算"
   ]
  },
  {
   "cell_type": "code",
   "execution_count": 10,
   "metadata": {},
   "outputs": [],
   "source": [
    "def blk_forward(X,blk,sizes,ratios,cls_predictor,bbox_predictor):\n",
    "    #定义SSD中前向运算的函数\n",
    "    #生成锚框\n",
    "    #前向运算\n",
    "    Y = blk(X)                    #计算下一层的输出 （批量大小，通道数，高，宽）\n",
    "    anchors = contrib.ndarray.MultiBoxPrior(Y, sizes=sizes, ratios=ratios)\n",
    "    cls_preds = cls_predictor(Y)   #预测类别 （批量大小，锚框个数*（类别数+1），高，宽）\n",
    "    bbox_preds = bbox_predictor(Y) #预测边界框回归 （批量大小，锚框个数*4，高，宽）\n",
    "    \n",
    "    #进入下一层的运算\n",
    "    return (Y,anchors,cls_preds,bbox_preds)\n",
    "        \n",
    "    "
   ]
  },
  {
   "cell_type": "code",
   "execution_count": 11,
   "metadata": {},
   "outputs": [],
   "source": [
    "class TinySSD(nn.Block):\n",
    "    def __init__(self,num_classes,**kwargs):\n",
    "        \n",
    "        super(TinySSD,self).__init__(**kwargs)\n",
    "        #定义网络结构\n",
    "        self.num_classes = num_classes\n",
    "        #定义每一层的宽高比和锚框个数\n",
    "        self.sizes = [[0.2, 0.272], [0.37, 0.447], [0.54, 0.619], [0.71, 0.79],\n",
    "                        [0.88, 0.961]]\n",
    "        self.ratios = [[1, 2, 0.5]] * 5\n",
    "        #定义每一层的的网络结构,特征层+预测类别+预测边界框\n",
    "        for i in range(5):\n",
    "            num_anchors_per_pixel = len(self.sizes[i])+len(self.ratios[i])-1\n",
    "            setattr(self,'blk_%d'%i,get_blk(i))\n",
    "            setattr(self,'cls_predictor_%d'%i,cls_pred(num_anchors_per_pixel,self.num_classes))\n",
    "            setattr(self,'bbox_predictor_%d'%i,bbox_pred(num_anchors_per_pixel))\n",
    "    \n",
    "    def forward(self,X):\n",
    "        #定义前向运算，每一个都会输出\n",
    "        anchors,cls_preds,bbox_preds=[],[],[]\n",
    "        for i in range(5):\n",
    "            #前向运算\n",
    "            X,anchor,cls_pred,bbox_pred = blk_forward(X,getattr(self,'blk_%d' % i),self.sizes[i],self.ratios[i],\n",
    "                                                     getattr(self,'cls_predictor_%d' %i),getattr(self,'bbox_predictor_%d'%i))\n",
    "            anchors.append(anchor)\n",
    "            cls_preds.append(cls_pred)\n",
    "            bbox_preds.append(bbox_pred)\n",
    "        \n",
    "        #返回输出\n",
    "        return (nd.concat(*anchors,dim=1),\n",
    "                concat_preds(cls_preds).reshape((0,-1,self.num_classes+1)),\n",
    "                concat_preds(bbox_preds))\n",
    "\n",
    "\n",
    "#\n"
   ]
  },
  {
   "cell_type": "markdown",
   "metadata": {},
   "source": [
    "## 下面开始进行模型训练"
   ]
  },
  {
   "cell_type": "markdown",
   "metadata": {},
   "source": [
    "* 首先是获得训练的数据集"
   ]
  },
  {
   "cell_type": "code",
   "execution_count": 12,
   "metadata": {},
   "outputs": [],
   "source": [
    "#获取皮卡丘数据\n",
    "batch_size = 8\n",
    "train_iter,test_iter = gb.load_data_pikachu(batch_size)\n",
    "\n",
    "#定义优化器\n",
    "ctx = gb.try_gpu()\n",
    "ssd = TinySSD(num_classes=1)\n",
    "#使用gpu进行训练\n",
    "ssd.initialize(init = init.Xavier(),ctx=ctx,force_reinit = True)\n",
    "trainer = gluon.Trainer(ssd.collect_params(),'sgd',{'learning_rate':0.05,'wd':5e-4})"
   ]
  },
  {
   "cell_type": "code",
   "execution_count": 14,
   "metadata": {},
   "outputs": [],
   "source": [
    "train_iter.reshape(label_shape=(3,5))"
   ]
  },
  {
   "cell_type": "markdown",
   "metadata": {},
   "source": [
    "### 下面定义评价准确度的函数，以及损失函数"
   ]
  },
  {
   "cell_type": "markdown",
   "metadata": {},
   "source": [
    "* 定义bbox的损失函数bbox_L1Loss"
   ]
  },
  {
   "cell_type": "code",
   "execution_count": 15,
   "metadata": {},
   "outputs": [],
   "source": [
    "cls_loss = gloss.SoftmaxCrossEntropyLoss()\n",
    "bbox_loss = gloss.L1Loss()"
   ]
  },
  {
   "cell_type": "code",
   "execution_count": 16,
   "metadata": {},
   "outputs": [],
   "source": [
    "L1Loss = gloss.L1Loss()\n",
    "def bbox_L1Loss(bbox_preds,bbox_tag,masks):\n",
    "    #其中负类锚框的损失函数不要计算\n",
    "    return L1Loss(bbox_preds*masks,bbox_tag*masks)"
   ]
  },
  {
   "cell_type": "markdown",
   "metadata": {},
   "source": [
    "* 定义预测类别的损失函数cls_loss"
   ]
  },
  {
   "cell_type": "code",
   "execution_count": 17,
   "metadata": {},
   "outputs": [],
   "source": [
    "def cal_total_loss(bbox_preds,bbox_labels,bbox_masks,cls_preds,cls_labels):\n",
    "    cls = cls_loss(cls_preds,cls_labels)\n",
    "    bbox = bbox_loss(bbox_preds * bbox_masks, bbox_labels * bbox_masks)\n",
    "    return cls+bbox"
   ]
  },
  {
   "cell_type": "markdown",
   "metadata": {},
   "source": [
    "* 定义评价精度的函数"
   ]
  },
  {
   "cell_type": "code",
   "execution_count": 18,
   "metadata": {},
   "outputs": [],
   "source": [
    "def eval_cls_accuracy(cls_preds,cls_labels):\n",
    "    return (cls_preds.argmax(axis=-1)==cls_labels).mean().asscalar()   "
   ]
  },
  {
   "cell_type": "markdown",
   "metadata": {},
   "source": [
    "### 定义训练函数"
   ]
  },
  {
   "cell_type": "code",
   "execution_count": 19,
   "metadata": {},
   "outputs": [],
   "source": [
    "def train(num_epochs):\n",
    "    for epoch in range(num_epochs):\n",
    "        #由于不是DataLoader类，每次需要我们重置指针\n",
    "        train_iter.reset()\n",
    "        start = time.time()\n",
    "        train_cls_accuracy = 0\n",
    "        train_MAE = 0\n",
    "        train_cls_loss = 0\n",
    "        #test_iter.reset()\n",
    "        #每次取出一个小批量数据进行训练\n",
    "        for i,batch in enumerate(train_iter):\n",
    "            X = batch.data[0].as_in_context(ctx)\n",
    "            Y = batch.label[0].as_in_context(ctx)\n",
    "            #下面进行前向运算\n",
    "            with autograd.record():\n",
    "                #计算网络的输出\n",
    "                anchors,cls_preds,bbox_preds = ssd(X)\n",
    "#                 print(anchors.shape)\n",
    "#                 print(Y.shape)\n",
    "#                 print(cls_preds.shape)\n",
    "                #生成真实标记\n",
    "                #返回偏移量，掩码，类别标签\n",
    "                bbox_offsets,bbox_masks,cls_labels=contrib.nd.MultiBoxTarget(anchors,Y,cls_preds.transpose((0,2,1)))\n",
    "                #下面计算损失函数\n",
    "#                 print(cls_preds.shape,cls_labels.shape)\n",
    "#                 break\n",
    "                l_cls=cls_loss(cls_preds,cls_labels)\n",
    "                l_bbox = bbox_L1Loss(bbox_preds,bbox_offsets,bbox_masks)\n",
    "                l = l_cls+l_bbox\n",
    "                \n",
    "            #反向传播\n",
    "            l.backward()\n",
    "            #迭代参数\n",
    "            trainer.step(batch_size)      \n",
    "            #记录准确率\n",
    "            #print(l_cls)\n",
    "            train_cls_loss += l_cls.mean().asscalar()\n",
    "            train_MAE += l_bbox.mean().asscalar()\n",
    "            train_cls_accuracy += eval_cls_accuracy(cls_preds,cls_labels)\n",
    "        if (epoch+1)%5==0:\n",
    "            print('epoch %2d , class acc %.2f,class err %.2e,bbox mae %.2e,time %.1f sec'\n",
    "                  %epoch+1,train_cls_accuracy/(i+1),train_cls_loss/(i+1),train_MAE/(i+1),time.time()-start)\n",
    "            "
   ]
  },
  {
   "cell_type": "code",
   "execution_count": null,
   "metadata": {},
   "outputs": [],
   "source": [
    "train(1)"
   ]
  },
  {
   "cell_type": "code",
   "execution_count": null,
   "metadata": {},
   "outputs": [],
   "source": []
  }
 ],
 "metadata": {
  "kernelspec": {
   "display_name": "Python3",
   "language": "python",
   "name": "python3"
  },
  "language_info": {
   "codemirror_mode": {
    "name": "ipython",
    "version": 3
   },
   "file_extension": ".py",
   "mimetype": "text/x-python",
   "name": "python",
   "nbconvert_exporter": "python",
   "pygments_lexer": "ipython3",
   "version": "3.6.4"
  }
 },
 "nbformat": 4,
 "nbformat_minor": 2
}
