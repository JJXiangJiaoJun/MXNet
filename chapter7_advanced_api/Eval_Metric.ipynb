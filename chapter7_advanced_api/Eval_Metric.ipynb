{
 "cells": [
  {
   "cell_type": "code",
   "execution_count": 1,
   "metadata": {},
   "outputs": [],
   "source": [
    "import mxnet as mx\n",
    "import numpy as np\n",
    "import matplotlib as mpl\n",
    "import matplotlib.pyplot as plt\n",
    "from mxnet import nd\n",
    "from mxnet import autograd, gluon, init, nd\n",
    "from mxnet.gluon import data as gdata, loss as gloss, nn"
   ]
  },
  {
   "cell_type": "markdown",
   "metadata": {},
   "source": [
    "# 自定义评价标准"
   ]
  },
  {
   "cell_type": "markdown",
   "metadata": {},
   "source": [
    "通过继承`mx.metric.EvalMetric`类来定义自己的评价标准\n",
    "* 重写`__init__()`方法\n",
    "* 实现`update()`方法\n",
    "\n",
    "* `self.num_inst = 0`、`self.sum_metric = 0.0`在update函数里对这两个属性进行操作\n",
    "* `get()`函数来获取结果"
   ]
  },
  {
   "cell_type": "markdown",
   "metadata": {},
   "source": [
    "## 重新定义分类的准确率"
   ]
  },
  {
   "cell_type": "code",
   "execution_count": 2,
   "metadata": {},
   "outputs": [],
   "source": [
    "class RPNAcc(mx.metric.EvalMetric):\n",
    "    def __init__(self,axis=-1,name='RPNAcc',**kwargs):\n",
    "        super(RPNAcc,self).__init__(name,**kwargs)\n",
    "        self._axis= axis\n",
    "    def update(self,labels,preds):\n",
    "        for label,pred in zip(labels,preds):\n",
    "            if pred.shape!=label.shape:\n",
    "                pred= pred.argmax(self._axis)\n",
    "            pred=pred.asnumpy().astype('int32')\n",
    "            label = label.asnumpy().astype('int32')\n",
    "            \n",
    "            self.sum_metric += (pred==label).sum()\n",
    "            self.num_inst += len(label)      "
   ]
  },
  {
   "cell_type": "code",
   "execution_count": 3,
   "metadata": {},
   "outputs": [],
   "source": [
    "rpn_acc = RPNAcc()"
   ]
  },
  {
   "cell_type": "code",
   "execution_count": 5,
   "metadata": {},
   "outputs": [],
   "source": [
    "labels = nd.ones(shape=(10,))\n",
    "preds = nd.random.uniform(shape=(10,5))"
   ]
  },
  {
   "cell_type": "code",
   "execution_count": 6,
   "metadata": {},
   "outputs": [],
   "source": [
    "rpn_acc.update(labels,preds)"
   ]
  },
  {
   "cell_type": "code",
   "execution_count": 7,
   "metadata": {},
   "outputs": [
    {
     "data": {
      "text/plain": [
       "('RPNAcc', 0.4)"
      ]
     },
     "execution_count": 7,
     "metadata": {},
     "output_type": "execute_result"
    }
   ],
   "source": [
    "rpn_acc.get()"
   ]
  },
  {
   "cell_type": "code",
   "execution_count": null,
   "metadata": {},
   "outputs": [],
   "source": []
  }
 ],
 "metadata": {
  "kernelspec": {
   "display_name": "Python3",
   "language": "python",
   "name": "python3"
  },
  "language_info": {
   "codemirror_mode": {
    "name": "ipython",
    "version": 3
   },
   "file_extension": ".py",
   "mimetype": "text/x-python",
   "name": "python",
   "nbconvert_exporter": "python",
   "pygments_lexer": "ipython3",
   "version": "3.6.4"
  }
 },
 "nbformat": 4,
 "nbformat_minor": 2
}
