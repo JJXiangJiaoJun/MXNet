{
 "cells": [
  {
   "cell_type": "markdown",
   "metadata": {},
   "source": [
    "# 通过继承 `nn.Block`类来构造自己定义的层"
   ]
  },
  {
   "cell_type": "code",
   "execution_count": 3,
   "metadata": {},
   "outputs": [],
   "source": [
    "import mxnet as mx\n",
    "from mxnet import gluon,nd\n",
    "from mxnet.gluon import nn\n"
   ]
  },
  {
   "cell_type": "code",
   "execution_count": 15,
   "metadata": {},
   "outputs": [],
   "source": [
    "class MLP(nn.Block):\n",
    "    #声明带有模型参数的类，这里声明了两个全连接层\n",
    "    def __init__(self,**kargs): #通过重写构造函数来实现自己的层初始化\n",
    "        #首先调用父类的构造函数\n",
    "        super(MLP,self).__init__(**kargs)\n",
    "        self.hidden = nn.Dense(256,activation='relu')\n",
    "        self.output = nn.Dense(10)\n",
    "    def forward(self,x):\n",
    "        return self.output(self.hidden(x))"
   ]
  },
  {
   "cell_type": "markdown",
   "metadata": {},
   "source": [
    "## 以上的MLP类中无需定义反向传播函数，mxnet会通过自动求梯度，从而求得反向传播所需的backward()"
   ]
  },
  {
   "cell_type": "code",
   "execution_count": 16,
   "metadata": {},
   "outputs": [],
   "source": [
    "x = nd.random.uniform(shape=(2,20),ctx=mx.gpu())"
   ]
  },
  {
   "cell_type": "code",
   "execution_count": 17,
   "metadata": {},
   "outputs": [],
   "source": [
    "net = MLP()"
   ]
  },
  {
   "cell_type": "code",
   "execution_count": 18,
   "metadata": {},
   "outputs": [],
   "source": [
    "net.initialize(ctx = mx.gpu())"
   ]
  },
  {
   "cell_type": "code",
   "execution_count": 19,
   "metadata": {},
   "outputs": [
    {
     "data": {
      "text/plain": [
       "\n",
       "[[ 0.05659141  0.02628279  0.01008523 -0.06831209 -0.04368097  0.01709548\n",
       "   0.06409521 -0.01832914 -0.03691746  0.04692763]\n",
       " [ 0.07557119  0.01819326  0.01077965 -0.06995347 -0.07495361  0.0251789\n",
       "   0.03733245 -0.04021479 -0.02011195  0.03191841]]\n",
       "<NDArray 2x10 @gpu(0)>"
      ]
     },
     "execution_count": 19,
     "metadata": {},
     "output_type": "execute_result"
    }
   ],
   "source": [
    "net(x)"
   ]
  },
  {
   "cell_type": "markdown",
   "metadata": {},
   "source": [
    "## Sequential类 继承自Block，它提供add函数来逐一添加串联的Block子类，\n",
    "## 下面手动实现一个Sequaltial类"
   ]
  },
  {
   "cell_type": "code",
   "execution_count": 20,
   "metadata": {},
   "outputs": [],
   "source": [
    "class MySequential(nn.Block):\n",
    "    \n",
    "    def __init__(self,**kargs):\n",
    "        super(MySequential,self).__init__(**kargs)\n",
    "    #定义add函数\n",
    "    def add(self,block):\n",
    "        # block 是⼀个 Block ⼦类实例，假设它有⼀个独⼀⽆⼆的名字。我们将它保存在 Block\n",
    "        # 类的成员变量 _children ⾥，其类型是 OrderedDict。当 MySequential 实例调⽤\n",
    "        # initialize 函数时，系统会⾃动对 _children ⾥所有成员初始化。\n",
    "        self._children[block.name] = block\n",
    "    def forward(self,x):\n",
    "        for block in self._children.values():\n",
    "            x = block(x)\n",
    "        return x"
   ]
  },
  {
   "cell_type": "code",
   "execution_count": 22,
   "metadata": {},
   "outputs": [
    {
     "data": {
      "text/plain": [
       "\n",
       "[[ 0.00423687 -0.01232926  0.04163517 -0.03118172  0.07519768 -0.01685334\n",
       "  -0.00322678 -0.00201064  0.05564328  0.00303039]\n",
       " [-0.02585907  0.02349075  0.0347481  -0.02321478  0.088716   -0.0354879\n",
       "  -0.02668689 -0.00363044  0.07213295 -0.00650949]]\n",
       "<NDArray 2x10 @gpu(0)>"
      ]
     },
     "execution_count": 22,
     "metadata": {},
     "output_type": "execute_result"
    }
   ],
   "source": [
    "net = MySequential()\n",
    "net.add(nn.Dense(256, activation='relu'))\n",
    "net.add(nn.Dense(10))\n",
    "net.initialize(ctx=mx.gpu())\n",
    "net(x)"
   ]
  },
  {
   "cell_type": "markdown",
   "metadata": {},
   "source": [
    "## 通过继承Block子类，可以定义一些复杂的模型，比如不被迭代的参数，以及实现控制流等"
   ]
  },
  {
   "cell_type": "code",
   "execution_count": 28,
   "metadata": {},
   "outputs": [],
   "source": [
    "class FancyMLP(nn.Block):\n",
    "    def __init__(self,**kargs):\n",
    "        super(FancyMLP,self).__init__(**kargs)\n",
    "        self.rand_weight = self.params.get_constant(\n",
    "        'rand_weight',nd.random.uniform(shape=(20,20)))\n",
    "        self.dense = nn.Dense(20,activation='relu')\n",
    "        \n",
    "    def forward(self,x):\n",
    "        x = self.dense(x)\n",
    "        #创建使用的常数参数，以及 NDarray 的relu 和dot函数\n",
    "        x = nd.relu(nd.dot(x,self.rand_weight.data())+1)\n",
    "        #重新使用层\n",
    "        x = self.dense(x)\n",
    "        \n",
    "        while x.norm().asscalar() >1:\n",
    "            x/=2\n",
    "        if x.norm().asscalar() <0.8:\n",
    "            x*=10\n",
    "        return x.sum()\n",
    "        "
   ]
  },
  {
   "cell_type": "code",
   "execution_count": 29,
   "metadata": {},
   "outputs": [
    {
     "data": {
      "text/plain": [
       "\n",
       "[20.06795]\n",
       "<NDArray 1 @gpu(0)>"
      ]
     },
     "execution_count": 29,
     "metadata": {},
     "output_type": "execute_result"
    }
   ],
   "source": [
    "net = FancyMLP()\n",
    "net.initialize(ctx= mx.gpu())\n",
    "net(x)"
   ]
  },
  {
   "cell_type": "markdown",
   "metadata": {},
   "source": [
    "## 嵌套调用"
   ]
  },
  {
   "cell_type": "code",
   "execution_count": 30,
   "metadata": {},
   "outputs": [],
   "source": [
    "class NestMLP(nn.Block):\n",
    "    def __init__(self,**kargs):\n",
    "        super(NestMLP,self).__init__(**kargs)\n",
    "        self.net = nn.Sequential()\n",
    "        self.net.add(nn.Dense(10,activation='relu'),\n",
    "                    nn.Dense(20,activation='relu'))\n",
    "        self.dense = nn.Dense(16,activation='relu')\n",
    "    def forward(self,x):\n",
    "        return self.dense(self.net(x))\n"
   ]
  },
  {
   "cell_type": "code",
   "execution_count": 31,
   "metadata": {},
   "outputs": [],
   "source": [
    "net = nn.Sequential()"
   ]
  },
  {
   "cell_type": "code",
   "execution_count": null,
   "metadata": {},
   "outputs": [],
   "source": [
    "net.add(NestMLP(),\n",
    "        nn.Dense(10,activation='relu'),\n",
    "        FancyMLP()\n",
    "        )\n",
    "net.initialize(ctx = mx.gou)"
   ]
  }
 ],
 "metadata": {
  "kernelspec": {
   "display_name": "Python3",
   "language": "python",
   "name": "python3"
  },
  "language_info": {
   "codemirror_mode": {
    "name": "ipython",
    "version": 3
   },
   "file_extension": ".py",
   "mimetype": "text/x-python",
   "name": "python",
   "nbconvert_exporter": "python",
   "pygments_lexer": "ipython3",
   "version": "3.6.4"
  }
 },
 "nbformat": 4,
 "nbformat_minor": 2
}
