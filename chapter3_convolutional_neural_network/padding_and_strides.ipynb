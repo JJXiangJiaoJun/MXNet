{
 "cells": [
  {
   "cell_type": "markdown",
   "metadata": {},
   "source": [
    "# 填充和步幅"
   ]
  },
  {
   "cell_type": "code",
   "execution_count": 1,
   "metadata": {},
   "outputs": [
    {
     "name": "stderr",
     "output_type": "stream",
     "text": [
      "C:\\Users\\lenovo\\Anaconda3\\lib\\site-packages\\h5py\\__init__.py:36: FutureWarning: Conversion of the second argument of issubdtype from `float` to `np.floating` is deprecated. In future, it will be treated as `np.float64 == np.dtype(float).type`.\n",
      "  from ._conv import register_converters as _register_converters\n"
     ]
    }
   ],
   "source": [
    "import mxnet as mx\n",
    "from mxnet import nd\n",
    "from mxnet.gluon import nn"
   ]
  },
  {
   "cell_type": "code",
   "execution_count": 8,
   "metadata": {},
   "outputs": [],
   "source": [
    "def comp_conv2d(conv2d,X):\n",
    "    conv2d.initialize(ctx=mx.gpu())\n",
    "    X= X.reshape((1,1)+X.shape)\n",
    "    print(X.shape)\n",
    "    Y = conv2d(X)\n",
    "    return Y.reshape(Y.shape[2:])"
   ]
  },
  {
   "cell_type": "code",
   "execution_count": 9,
   "metadata": {},
   "outputs": [],
   "source": [
    "conv2d = nn.Conv2D(1,kernel_size=3,padding=1)"
   ]
  },
  {
   "cell_type": "code",
   "execution_count": 10,
   "metadata": {},
   "outputs": [
    {
     "name": "stdout",
     "output_type": "stream",
     "text": [
      "(1, 1, 8, 8)\n"
     ]
    },
    {
     "data": {
      "text/plain": [
       "\n",
       "[[0.02296504 0.07527951 0.1019843  0.05861192 0.10765778 0.05657315\n",
       "  0.10162106 0.08724427]\n",
       " [0.06970814 0.09405079 0.07583692 0.11878338 0.07974964 0.13938563\n",
       "  0.12530233 0.10638827]\n",
       " [0.07912835 0.11945861 0.11563882 0.098033   0.13805628 0.10578717\n",
       "  0.1294526  0.07007442]\n",
       " [0.09843844 0.16193819 0.11362883 0.14212376 0.07825288 0.08392149\n",
       "  0.07146817 0.06980459]\n",
       " [0.0958246  0.14256501 0.1264734  0.07987633 0.08415439 0.04422628\n",
       "  0.11582568 0.09084047]\n",
       " [0.11886704 0.1379286  0.13124883 0.11723378 0.10805992 0.08874001\n",
       "  0.14823118 0.09710299]\n",
       " [0.11720818 0.17266366 0.17481065 0.12487686 0.09770676 0.15680423\n",
       "  0.10164765 0.09733537]\n",
       " [0.10054319 0.11765077 0.11275587 0.10060339 0.07926086 0.08555236\n",
       "  0.10118171 0.03842236]]\n",
       "<NDArray 8x8 @gpu(0)>"
      ]
     },
     "execution_count": 10,
     "metadata": {},
     "output_type": "execute_result"
    }
   ],
   "source": [
    "X = nd.random.uniform(shape=(8,8),ctx=mx.gpu())\n",
    "comp_conv2d(conv2d,X)"
   ]
  },
  {
   "cell_type": "markdown",
   "metadata": {},
   "source": [
    "## 当卷积核高和宽不同时，也可以通过设置高和宽上不同的填充数来使输入输出具有相同维数"
   ]
  },
  {
   "cell_type": "code",
   "execution_count": 11,
   "metadata": {},
   "outputs": [
    {
     "name": "stdout",
     "output_type": "stream",
     "text": [
      "(1, 1, 8, 8)\n"
     ]
    },
    {
     "data": {
      "text/plain": [
       "\n",
       "[[ 5.5286743e-02  1.2191797e-02  8.0625098e-03  4.0129449e-02\n",
       "  -2.4736598e-02  5.7737343e-02  4.3989696e-02  2.0369509e-02]\n",
       " [ 2.6061770e-03  4.7459528e-02  1.1705700e-01 -1.5389900e-02\n",
       "   8.9367911e-02  2.3619316e-03  4.0790886e-02 -1.6590985e-02]\n",
       " [ 9.8030575e-02  5.1474489e-02 -1.0200523e-02  8.1391320e-02\n",
       "  -7.0428597e-03  3.6322858e-02  1.9635590e-02  3.0563435e-02]\n",
       " [ 5.7287939e-02 -2.4851171e-02  9.3312569e-02 -9.5892968e-03\n",
       "   8.1455983e-02 -5.2640764e-03  5.6604851e-02  5.7073176e-02]\n",
       " [ 8.4540777e-02  9.8621033e-02 -5.0847828e-03  7.7289283e-02\n",
       "  -1.1029764e-04  8.2826212e-02  4.0516447e-02  7.4447349e-02]\n",
       " [ 6.7337431e-02  5.2588847e-02  7.2672814e-02  2.9941387e-02\n",
       "   2.5090989e-02  2.6746470e-02  9.0084247e-02 -6.0966080e-03]\n",
       " [ 1.0615237e-01  2.7678737e-02 -4.7413308e-02  2.1821819e-02\n",
       "   1.7447084e-02 -3.2005116e-02  7.0574306e-02 -3.8644522e-02]\n",
       " [ 3.1554345e-02  2.2009609e-02  2.3724373e-02 -1.7238595e-02\n",
       "  -2.1109862e-02  5.3462021e-02 -3.9925516e-02  2.6585726e-02]]\n",
       "<NDArray 8x8 @gpu(0)>"
      ]
     },
     "execution_count": 11,
     "metadata": {},
     "output_type": "execute_result"
    }
   ],
   "source": [
    "conv2d = nn.Conv2D(1,kernel_size=(5,3),padding =(2,1))\n",
    "comp_conv2d(conv2d,X)"
   ]
  },
  {
   "cell_type": "markdown",
   "metadata": {},
   "source": [
    "## 下面试试步长"
   ]
  },
  {
   "cell_type": "code",
   "execution_count": 12,
   "metadata": {},
   "outputs": [
    {
     "name": "stdout",
     "output_type": "stream",
     "text": [
      "(1, 1, 8, 8)\n"
     ]
    },
    {
     "data": {
      "text/plain": [
       "\n",
       "[[-0.06452531 -0.05909466  0.00346077 -0.08268175]\n",
       " [-0.07423976 -0.0743845  -0.03611413  0.01493223]\n",
       " [-0.07582844 -0.04523201 -0.02953067 -0.06957643]\n",
       " [-0.08309513 -0.04244537 -0.05246825 -0.08811039]]\n",
       "<NDArray 4x4 @gpu(0)>"
      ]
     },
     "execution_count": 12,
     "metadata": {},
     "output_type": "execute_result"
    }
   ],
   "source": [
    "conv2d = nn.Conv2D(1,kernel_size=3,padding=1,strides=2)\n",
    "comp_conv2d(conv2d,X)"
   ]
  },
  {
   "cell_type": "code",
   "execution_count": null,
   "metadata": {},
   "outputs": [],
   "source": []
  }
 ],
 "metadata": {
  "kernelspec": {
   "display_name": "Python3",
   "language": "python",
   "name": "python3"
  },
  "language_info": {
   "codemirror_mode": {
    "name": "ipython",
    "version": 3
   },
   "file_extension": ".py",
   "mimetype": "text/x-python",
   "name": "python",
   "nbconvert_exporter": "python",
   "pygments_lexer": "ipython3",
   "version": "3.6.4"
  }
 },
 "nbformat": 4,
 "nbformat_minor": 2
}
